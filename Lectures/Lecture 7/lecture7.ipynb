{
 "cells": [
  {
   "cell_type": "markdown",
   "metadata": {},
   "source": [
    "# Lecture 7\n",
    "\n",
    "In the last lecture and in the homework, we covered how to autopopulate tables using `Imported` and `Computed` tables. \n",
    "\n",
    "These two table tiers require you to define a `make` function in order to populate a table using the `populate` method. However, often you know what type of data you want to go into a table, but you have not settled on a way to compute/import it. Or you want to test multiple ways of computing something and insert it into the same table. \n",
    "\n",
    "This is where two **feature-specfic** tables will be introducted called `AutoComputed` and `AutoImported` tables. In order to make sure everybody has the correct datajoint installed, let's execute the commands below and reconfigure datajoint:"
   ]
  },
  {
   "cell_type": "code",
   "execution_count": null,
   "metadata": {},
   "outputs": [
    {
     "name": "stdout",
     "output_type": "stream",
     "text": [
      "/Users/skb/.datajoint_config.json\n",
      "deleting file\n",
      "Found existing installation: datajoint 0.12.5\n",
      "Uninstalling datajoint-0.12.5:\n",
      "  Successfully uninstalled datajoint-0.12.5\n",
      "Collecting git+https://github.com/gucky92/datajoint-python\n",
      "  Cloning https://github.com/gucky92/datajoint-python to /private/var/folders/fy/xt1l_9yd74bd2541p0t5t6q00000gn/T/pip-req-build-23k2r2ae\n",
      "  Running command git clone -q https://github.com/gucky92/datajoint-python /private/var/folders/fy/xt1l_9yd74bd2541p0t5t6q00000gn/T/pip-req-build-23k2r2ae\n",
      "Requirement already satisfied, skipping upgrade: numpy in /Users/skb/opt/anaconda3/lib/python3.7/site-packages (from datajoint==0.12.5) (1.18.1)\n",
      "Requirement already satisfied, skipping upgrade: pymysql>=0.7.2 in /Users/skb/opt/anaconda3/lib/python3.7/site-packages (from datajoint==0.12.5) (0.9.3)\n",
      "Requirement already satisfied, skipping upgrade: pyparsing in /Users/skb/opt/anaconda3/lib/python3.7/site-packages (from datajoint==0.12.5) (2.4.6)\n",
      "Requirement already satisfied, skipping upgrade: ipython in /Users/skb/opt/anaconda3/lib/python3.7/site-packages (from datajoint==0.12.5) (7.12.0)\n",
      "Requirement already satisfied, skipping upgrade: pandas in /Users/skb/opt/anaconda3/lib/python3.7/site-packages (from datajoint==0.12.5) (1.0.1)\n",
      "Requirement already satisfied, skipping upgrade: tqdm in /Users/skb/opt/anaconda3/lib/python3.7/site-packages (from datajoint==0.12.5) (4.42.1)\n",
      "Requirement already satisfied, skipping upgrade: networkx in /Users/skb/opt/anaconda3/lib/python3.7/site-packages (from datajoint==0.12.5) (2.4)\n",
      "Requirement already satisfied, skipping upgrade: pydot in /Users/skb/opt/anaconda3/lib/python3.7/site-packages (from datajoint==0.12.5) (1.4.1)\n",
      "Requirement already satisfied, skipping upgrade: minio in /Users/skb/opt/anaconda3/lib/python3.7/site-packages (from datajoint==0.12.5) (5.0.10)\n",
      "Requirement already satisfied, skipping upgrade: matplotlib in /Users/skb/opt/anaconda3/lib/python3.7/site-packages (from datajoint==0.12.5) (3.1.3)\n",
      "Requirement already satisfied, skipping upgrade: decorator in /Users/skb/opt/anaconda3/lib/python3.7/site-packages (from ipython->datajoint==0.12.5) (4.4.1)\n",
      "Requirement already satisfied, skipping upgrade: jedi>=0.10 in /Users/skb/opt/anaconda3/lib/python3.7/site-packages (from ipython->datajoint==0.12.5) (0.14.1)\n",
      "Requirement already satisfied, skipping upgrade: pygments in /Users/skb/opt/anaconda3/lib/python3.7/site-packages (from ipython->datajoint==0.12.5) (2.5.2)\n",
      "Requirement already satisfied, skipping upgrade: prompt-toolkit!=3.0.0,!=3.0.1,<3.1.0,>=2.0.0 in /Users/skb/opt/anaconda3/lib/python3.7/site-packages (from ipython->datajoint==0.12.5) (3.0.3)\n",
      "Requirement already satisfied, skipping upgrade: appnope; sys_platform == \"darwin\" in /Users/skb/opt/anaconda3/lib/python3.7/site-packages (from ipython->datajoint==0.12.5) (0.1.0)\n",
      "Requirement already satisfied, skipping upgrade: pexpect; sys_platform != \"win32\" in /Users/skb/opt/anaconda3/lib/python3.7/site-packages (from ipython->datajoint==0.12.5) (4.8.0)\n",
      "Requirement already satisfied, skipping upgrade: backcall in /Users/skb/opt/anaconda3/lib/python3.7/site-packages (from ipython->datajoint==0.12.5) (0.1.0)\n",
      "Requirement already satisfied, skipping upgrade: setuptools>=18.5 in /Users/skb/opt/anaconda3/lib/python3.7/site-packages (from ipython->datajoint==0.12.5) (46.0.0.post20200309)\n",
      "Requirement already satisfied, skipping upgrade: traitlets>=4.2 in /Users/skb/opt/anaconda3/lib/python3.7/site-packages (from ipython->datajoint==0.12.5) (4.3.3)\n",
      "Requirement already satisfied, skipping upgrade: pickleshare in /Users/skb/opt/anaconda3/lib/python3.7/site-packages (from ipython->datajoint==0.12.5) (0.7.5)\n",
      "Requirement already satisfied, skipping upgrade: python-dateutil>=2.6.1 in /Users/skb/opt/anaconda3/lib/python3.7/site-packages (from pandas->datajoint==0.12.5) (2.8.1)\n",
      "Requirement already satisfied, skipping upgrade: pytz>=2017.2 in /Users/skb/opt/anaconda3/lib/python3.7/site-packages (from pandas->datajoint==0.12.5) (2019.3)\n",
      "Requirement already satisfied, skipping upgrade: certifi in /Users/skb/opt/anaconda3/lib/python3.7/site-packages (from minio->datajoint==0.12.5) (2019.11.28)\n",
      "Requirement already satisfied, skipping upgrade: urllib3 in /Users/skb/opt/anaconda3/lib/python3.7/site-packages (from minio->datajoint==0.12.5) (1.25.8)\n",
      "Requirement already satisfied, skipping upgrade: configparser in /Users/skb/opt/anaconda3/lib/python3.7/site-packages (from minio->datajoint==0.12.5) (5.0.0)\n",
      "Requirement already satisfied, skipping upgrade: kiwisolver>=1.0.1 in /Users/skb/opt/anaconda3/lib/python3.7/site-packages (from matplotlib->datajoint==0.12.5) (1.1.0)\n",
      "Requirement already satisfied, skipping upgrade: cycler>=0.10 in /Users/skb/opt/anaconda3/lib/python3.7/site-packages (from matplotlib->datajoint==0.12.5) (0.10.0)\n",
      "Requirement already satisfied, skipping upgrade: parso>=0.5.0 in /Users/skb/opt/anaconda3/lib/python3.7/site-packages (from jedi>=0.10->ipython->datajoint==0.12.5) (0.5.2)\n",
      "Requirement already satisfied, skipping upgrade: wcwidth in /Users/skb/opt/anaconda3/lib/python3.7/site-packages (from prompt-toolkit!=3.0.0,!=3.0.1,<3.1.0,>=2.0.0->ipython->datajoint==0.12.5) (0.1.8)\n",
      "Requirement already satisfied, skipping upgrade: ptyprocess>=0.5 in /Users/skb/opt/anaconda3/lib/python3.7/site-packages (from pexpect; sys_platform != \"win32\"->ipython->datajoint==0.12.5) (0.6.0)\n",
      "Requirement already satisfied, skipping upgrade: six in /Users/skb/opt/anaconda3/lib/python3.7/site-packages (from traitlets>=4.2->ipython->datajoint==0.12.5) (1.14.0)\n",
      "Requirement already satisfied, skipping upgrade: ipython-genutils in /Users/skb/opt/anaconda3/lib/python3.7/site-packages (from traitlets>=4.2->ipython->datajoint==0.12.5) (0.2.0)\n",
      "Building wheels for collected packages: datajoint\n",
      "  Building wheel for datajoint (setup.py) ... \u001b[?25ldone\n",
      "\u001b[?25h  Created wheel for datajoint: filename=datajoint-0.12.5-py3-none-any.whl size=104789 sha256=090e0e2c5d86b49606cef795137fed66e2ceaef77bc13d11a1f0db2c3975f070\n",
      "  Stored in directory: /private/var/folders/fy/xt1l_9yd74bd2541p0t5t6q00000gn/T/pip-ephem-wheel-cache-k8elrki7/wheels/f5/53/22/049dc0253e6a42dc27ef9b08340e92db03d33b1376d0c7b895\n",
      "Successfully built datajoint\n",
      "Installing collected packages: datajoint\n",
      "Successfully installed datajoint-0.12.5\n",
      "Collecting GitPython\n",
      "  Downloading GitPython-3.1.2-py3-none-any.whl (451 kB)\n",
      "\u001b[K     |████████████████████████████████| 451 kB 2.5 MB/s eta 0:00:01\n",
      "\u001b[?25hCollecting gitdb<5,>=4.0.1\n",
      "  Downloading gitdb-4.0.5-py3-none-any.whl (63 kB)\n",
      "\u001b[K     |████████████████████████████████| 63 kB 7.0 MB/s  eta 0:00:01\n",
      "\u001b[?25hCollecting smmap<4,>=3.0.1\n",
      "  Downloading smmap-3.0.4-py2.py3-none-any.whl (25 kB)\n",
      "Installing collected packages: smmap, gitdb, GitPython\n",
      "Successfully installed GitPython-3.1.2 gitdb-4.0.5 smmap-3.0.4\n"
     ]
    }
   ],
   "source": [
    "import datajoint as dj\n",
    "# dj.config['fetch_format'] = 'array'\n",
    "import os\n",
    "# remove configuration files\n",
    "global_file = os.path.expanduser(os.path.join('~', dj.settings.GLOBALCONFIG))\n",
    "print(global_file)\n",
    "if os.path.exists(global_file):\n",
    "    print('deleting file')\n",
    "    os.remove(global_file)\n",
    "!pip uninstall -y datajoint\n",
    "!pip install --upgrade git+https://github.com/gucky92/datajoint-python\n",
    "    \n",
    "# install some other packages dependencies\n",
    "!pip install GitPython\n",
    "!conda install -y conda\n",
    "# for this tutorial also make sure you have cloudpickle installed\n",
    "# although this should already be the case\n",
    "!pip install cloudpickle"
   ]
  },
  {
   "cell_type": "markdown",
   "metadata": {},
   "source": [
    "**Refresh the kernel!!!** "
   ]
  },
  {
   "cell_type": "code",
   "execution_count": 1,
   "metadata": {},
   "outputs": [
    {
     "data": {
      "text/plain": [
       "{   'automaker_warnings': True,\n",
       "    'backup_context': None,\n",
       "    'connection.charset': '',\n",
       "    'connection.init_function': None,\n",
       "    'database.host': 'localhost',\n",
       "    'database.password': None,\n",
       "    'database.port': 3306,\n",
       "    'database.reconnect': True,\n",
       "    'database.use_tls': None,\n",
       "    'database.user': None,\n",
       "    'display.limit': 12,\n",
       "    'display.show_tuple_count': True,\n",
       "    'display.width': 14,\n",
       "    'enable_automakers': True,\n",
       "    'enable_python_native_blobs': True,\n",
       "    'enable_python_pickle_blobs': True,\n",
       "    'fetch_format': 'array',\n",
       "    'loglevel': 'INFO',\n",
       "    'safemode': True,\n",
       "    'tmp_folder': None}"
      ]
     },
     "execution_count": 1,
     "metadata": {},
     "output_type": "execute_result"
    }
   ],
   "source": [
    "# test if datajoint imports\n",
    "import datajoint as dj\n",
    "# default configuration\n",
    "dj.config\n",
    "# dj.config['fetch_format'] = 'array'"
   ]
  },
  {
   "cell_type": "code",
   "execution_count": 2,
   "metadata": {},
   "outputs": [],
   "source": [
    "# import other packages\n",
    "import os\n",
    "import numpy as np\n",
    "import matplotlib.pyplot as plt\n",
    "import pandas as pd\n",
    "%matplotlib inline"
   ]
  },
  {
   "cell_type": "markdown",
   "metadata": {},
   "source": [
    "datajoint configuration"
   ]
  },
  {
   "cell_type": "code",
   "execution_count": 3,
   "metadata": {},
   "outputs": [
    {
     "name": "stdout",
     "output_type": "stream",
     "text": [
      "Connecting root@127.0.0.1:3306\n"
     ]
    },
    {
     "data": {
      "text/plain": [
       "DataJoint connection (connected) root@127.0.0.1:3306"
      ]
     },
     "execution_count": 3,
     "metadata": {},
     "output_type": "execute_result"
    }
   ],
   "source": [
    "dj.config['database.host'] = '127.0.0.1'\n",
    "dj.config['database.port'] = 3306\n",
    "dj.config['database.user'] = 'root'\n",
    "dj.config['database.password'] = 'simple'\n",
    "folder = os.getcwd()\n",
    "dj.config['stores'] = {\n",
    "    'localstore': {\n",
    "        'protocol': 'file', # store is a normal filepath\n",
    "        'location': os.path.join(folder, 'localstore') # location of store\n",
    "    }\n",
    "}\n",
    "# connect to datajoint\n",
    "dj.conn()"
   ]
  },
  {
   "cell_type": "markdown",
   "metadata": {},
   "source": [
    "# `AutoComputed` and `AutoImported` tables\n",
    "\n",
    "`AutoComputed` and `AutoImported` tables expand the functionalities of Computed and Imported tables of datajoint. \n",
    "\n",
    "There are a couple reasons why these new type of table tiers were created:\n",
    "\n",
    "* Define the general table design of autopopulated tables before having to settle on a function to autopopulate (i.e. dynamic `make` method). \n",
    "* keep track which type of function was applied using the SQL database, when autopopulating. \n",
    "* Check if function and parameters passed to function has changed before autopopulating. \n",
    "* (Keep track of package versions used when running the function before autopopulating).\n",
    "\n",
    "The goal is to dynamically populate the table using different functions, and keep track which function and parameters were used each time when autopopulating. "
   ]
  },
  {
   "cell_type": "markdown",
   "metadata": {},
   "source": [
    "Let's use a very simple example to illustrate how the `AutoComputed` and `AutoImported` tables differ from `Computed` and `Imported` tables:"
   ]
  },
  {
   "cell_type": "code",
   "execution_count": 4,
   "metadata": {},
   "outputs": [],
   "source": [
    "schema = dj.schema('lecture7')\n",
    "schema.drop(True)\n",
    "schema = dj.schema('lecture7')\n",
    "\n",
    "@schema\n",
    "class Data(dj.Manual):\n",
    "    definition = \"\"\"\n",
    "    id : int auto_increment\n",
    "    ---\n",
    "    data : longblob\n",
    "    \"\"\"\n",
    "    \n",
    "@schema\n",
    "class StatComputed(dj.Computed):\n",
    "    definition = \"\"\"\n",
    "    -> Data\n",
    "    ---\n",
    "    stat : longblob\n",
    "    \"\"\"\n",
    "    \n",
    "    def make(self, key):\n",
    "        data = (Data & key).fetch1('data')\n",
    "        \n",
    "        output = np.mean(data)\n",
    "        \n",
    "        key['stat'] = output\n",
    "        \n",
    "        self.insert1(key)\n",
    "        \n",
    "        print(f'inserted id: {key[\"id\"]}')\n",
    "    \n",
    "@schema\n",
    "class StatAutoComputed(dj.AutoComputed):\n",
    "    definition = \"\"\"\n",
    "    -> Data\n",
    "    ---\n",
    "    stat : longblob\n",
    "    \"\"\"\n",
    "# insert random numbers    \n",
    "Data.insert([\n",
    "    {'data': np.random.random((100, 5))}, \n",
    "    {'data': np.random.random((150, 5))}, \n",
    "    {'data': np.random.random((100, 4))}, \n",
    "    {'data': np.random.random((100, 5))}, \n",
    "    {'data': np.random.random((200, 3))}, \n",
    "    {'data': np.random.random((10, 10))}, \n",
    "    {'data': np.random.random((1000, 2))}\n",
    "])"
   ]
  },
  {
   "cell_type": "markdown",
   "metadata": {},
   "source": [
    "Let's try to autopopulate"
   ]
  },
  {
   "cell_type": "code",
   "execution_count": 5,
   "metadata": {},
   "outputs": [
    {
     "name": "stdout",
     "output_type": "stream",
     "text": [
      "inserted id: 1\n",
      "inserted id: 2\n",
      "inserted id: 3\n",
      "inserted id: 4\n",
      "inserted id: 5\n",
      "inserted id: 6\n",
      "inserted id: 7\n"
     ]
    }
   ],
   "source": [
    "StatComputed.populate()"
   ]
  },
  {
   "cell_type": "code",
   "execution_count": 6,
   "metadata": {},
   "outputs": [
    {
     "ename": "TypeError",
     "evalue": "populate() missing 1 required positional argument: 'settings_name'",
     "output_type": "error",
     "traceback": [
      "\u001b[0;31m---------------------------------------------------------------------------\u001b[0m",
      "\u001b[0;31mTypeError\u001b[0m                                 Traceback (most recent call last)",
      "\u001b[0;32m<ipython-input-6-39ce93881a7a>\u001b[0m in \u001b[0;36m<module>\u001b[0;34m\u001b[0m\n\u001b[0;32m----> 1\u001b[0;31m \u001b[0mStatAutoComputed\u001b[0m\u001b[0;34m.\u001b[0m\u001b[0mpopulate\u001b[0m\u001b[0;34m(\u001b[0m\u001b[0;34m)\u001b[0m\u001b[0;34m\u001b[0m\u001b[0;34m\u001b[0m\u001b[0m\n\u001b[0m",
      "\u001b[0;31mTypeError\u001b[0m: populate() missing 1 required positional argument: 'settings_name'"
     ]
    }
   ],
   "source": [
    "StatAutoComputed.populate()"
   ]
  },
  {
   "cell_type": "markdown",
   "metadata": {},
   "source": [
    "So that didn't work. Let's try to find out why."
   ]
  },
  {
   "cell_type": "markdown",
   "metadata": {},
   "source": [
    "Let's take a look at the ERD"
   ]
  },
  {
   "cell_type": "code",
   "execution_count": 7,
   "metadata": {},
   "outputs": [
    {
     "data": {
      "image/svg+xml": [
       "<svg height=\"105pt\" viewBox=\"0.00 0.00 200.50 105.00\" width=\"201pt\" xmlns=\"http://www.w3.org/2000/svg\" xmlns:xlink=\"http://www.w3.org/1999/xlink\">\n",
       "<g class=\"graph\" id=\"graph0\" transform=\"scale(1 1) rotate(0) translate(4 101)\">\n",
       "<title>%3</title>\n",
       "<polygon fill=\"#ffffff\" points=\"-4,4 -4,-101 196.5,-101 196.5,4 -4,4\" stroke=\"transparent\"/>\n",
       "<!-- StatAutoComputedSettings -->\n",
       "<g class=\"node\" id=\"node1\">\n",
       "<title>StatAutoComputedSettings</title>\n",
       "<g id=\"a_node1\"><a xlink:title=\"stat_auto_computed_populate_settings \r",
       "------------------------------\r",
       "description=null     \r",
       "func                 \r",
       "global_settings      \r",
       "entry_settings       \r",
       "fetch_method=&quot;fetch1&quot; \r",
       "fetch_tables=null    \r",
       "assign_output=null   \r",
       "restrictions=null    \r",
       "parse_unique=null    \r",
       "created=CURRENT_TIMESTAMP \r",
       "\">\n",
       "<polygon fill=\"#ff7f50\" points=\"107,-97 0,-97 0,-62 107,-62 107,-97\" stroke=\"#ff7f50\"/>\n",
       "<text fill=\"#000000\" font-family=\"arial\" font-size=\"10.00\" text-anchor=\"start\" text-decoration=\"underline\" x=\"8\" y=\"-78\">StatAutoComputedSettings</text>\n",
       "</a>\n",
       "</g>\n",
       "</g>\n",
       "<!-- StatAutoComputed -->\n",
       "<g class=\"node\" id=\"node3\">\n",
       "<title>StatAutoComputed</title>\n",
       "<g id=\"a_node3\"><a xlink:title=\"→ Data\r",
       "→ StatAutoComputedSettings\r",
       "------------------------------\r",
       "stat                 \r",
       "\">\n",
       "<ellipse cx=\"53.5\" cy=\"-13\" fill=\"#ff00ff\" rx=\"13\" ry=\"13\" stroke=\"#ff00ff\"/>\n",
       "<text fill=\"#000000\" font-family=\"arial\" font-size=\"12.00\" text-anchor=\"middle\" x=\"53.5\" y=\"-9.9\">StatAutoComputed</text>\n",
       "</a>\n",
       "</g>\n",
       "</g>\n",
       "<!-- StatAutoComputedSettings&#45;&gt;StatAutoComputed -->\n",
       "<g class=\"edge\" id=\"edge1\">\n",
       "<title>StatAutoComputedSettings-&gt;StatAutoComputed</title>\n",
       "<path d=\"M53.5,-61.6792C53.5,-50.4451 53.5,-36.1917 53.5,-26.0168\" fill=\"none\" stroke=\"#000000\" stroke-opacity=\"0.250980\" stroke-width=\".75\"/>\n",
       "</g>\n",
       "<!-- StatComputed -->\n",
       "<g class=\"node\" id=\"node2\">\n",
       "<title>StatComputed</title>\n",
       "<g id=\"a_node2\"><a xlink:title=\"→ Data\r",
       "------------------------------\r",
       "stat                 \r",
       "\">\n",
       "<ellipse cx=\"155.5\" cy=\"-13\" fill=\"#ff00ff\" rx=\"13\" ry=\"13\" stroke=\"#ff00ff\"/>\n",
       "<text fill=\"#000000\" font-family=\"arial\" font-size=\"12.00\" text-anchor=\"middle\" x=\"155.5\" y=\"-9.9\">StatComputed</text>\n",
       "</a>\n",
       "</g>\n",
       "</g>\n",
       "<!-- Data -->\n",
       "<g class=\"node\" id=\"node4\">\n",
       "<title>Data</title>\n",
       "<g id=\"a_node4\"><a xlink:title=\"id                   \r",
       "------------------------------\r",
       "data                 \r",
       "\">\n",
       "<polygon fill=\"#adff2f\" points=\"167.5,-97 131.5,-97 131.5,-62 167.5,-62 167.5,-97\" stroke=\"#adff2f\"/>\n",
       "<text fill=\"#000000\" font-family=\"arial\" font-size=\"12.00\" text-anchor=\"start\" text-decoration=\"underline\" x=\"139.5\" y=\"-77.4\">Data</text>\n",
       "</a>\n",
       "</g>\n",
       "</g>\n",
       "<!-- Data&#45;&gt;StatComputed -->\n",
       "<g class=\"edge\" id=\"edge2\">\n",
       "<title>Data-&gt;StatComputed</title>\n",
       "<path d=\"M151.1079,-61.6792C152.1215,-50.4451 153.4075,-36.1917 154.3255,-26.0168\" fill=\"none\" stroke=\"#000000\" stroke-opacity=\"0.250980\" stroke-width=\"2\"/>\n",
       "</g>\n",
       "<!-- Data&#45;&gt;StatAutoComputed -->\n",
       "<g class=\"edge\" id=\"edge3\">\n",
       "<title>Data-&gt;StatAutoComputed</title>\n",
       "<path d=\"M131.4431,-66.9919C111.6728,-53.2968 80.6184,-31.7852 64.3171,-20.4931\" fill=\"none\" stroke=\"#000000\" stroke-opacity=\"0.250980\" stroke-width=\".75\"/>\n",
       "</g>\n",
       "</g>\n",
       "</svg>"
      ],
      "text/plain": [
       "<datajoint.diagram.Diagram at 0xa190da790>"
      ]
     },
     "execution_count": 7,
     "metadata": {},
     "output_type": "execute_result"
    }
   ],
   "source": [
    "dj.ERD(schema)"
   ]
  },
  {
   "cell_type": "markdown",
   "metadata": {},
   "source": [
    "WOW, wait a second! What is this orange table?\n",
    "\n",
    "The orange table was generated automatically when creating the `StatAutoComputed` table, and it was made a parent table of `StatAutoComputed`. This is the \"settings\" table for `StatAutoComputed` that allows you to define various functions to autopopulate `StatAutoComputed`. Let's take a look at the settings table and see how we can define functions to autopopulate `StatAutoComputed` dynamically."
   ]
  },
  {
   "cell_type": "markdown",
   "metadata": {},
   "source": [
    "#### Automatically-generated settings table\n",
    "\n",
    "You can access the settings table from the `StatAutoComputed` class:"
   ]
  },
  {
   "cell_type": "code",
   "execution_count": 6,
   "metadata": {},
   "outputs": [
    {
     "name": "stdout",
     "output_type": "stream",
     "text": [
      "\n",
      "        stat_auto_computed_populate_settings : varchar(63)\n",
      "        ---\n",
      "        description = null : varchar(4000) # any string to describe setting\n",
      "        func : longblob # two-tuple of strings (module, function) or callable\n",
      "        global_settings : longblob # dictionary\n",
      "        entry_settings : longblob # dictionary\n",
      "        fetch_method = 'fetch1' : enum('fetch', 'fetch1', 'farfetch', 'farfetch1')\n",
      "        fetch_tables = null : longblob # dictionary of dict(table_name: projection)\n",
      "        assign_output = null : longblob # overrides make_compatible to simply assign the output to a column\n",
      "        restrictions = null : longblob # dictionary or list of restrictions\n",
      "        parse_unique = null : longblob # list of unique entries for fetch\n",
      "        created = CURRENT_TIMESTAMP : timestamp\n",
      "        \n"
     ]
    }
   ],
   "source": [
    "print(StatAutoComputed.settings_table().definition)"
   ]
  },
  {
   "cell_type": "markdown",
   "metadata": {},
   "source": [
    "So that's a lot to take in. Besides the primary key this table accepts various secondary attributes: some that seem required and some that don't. To get an intuition of what all of this does let's try to go back to the `make` method of the `StatComputed` table, take it apart and see what the settings table wants."
   ]
  },
  {
   "cell_type": "markdown",
   "metadata": {},
   "source": [
    "```python\n",
    "def make(self, key):\n",
    "    data = (Data & key).fetch1('data')\n",
    "        \n",
    "    output = np.mean(data)\n",
    "\n",
    "    key['stat'] = output\n",
    "\n",
    "    self.insert1(key)\n",
    "\n",
    "    print(f'inserted id: {key[\"id\"]}')\n",
    "```\n",
    "\n",
    "There are three main steps happening here:\n",
    "\n",
    "1. fetch relevant data from a single/joined table for a specific entry\n",
    "2. pass data to a function\n",
    "3. insert output of function into self (table to be autopopulated)"
   ]
  },
  {
   "cell_type": "markdown",
   "metadata": {},
   "source": [
    "If we take a look at the settings table there are various attributes, let's focus on the essential ones for now:\n",
    "\n",
    "* primary_key: `stat_auto_computed_populate_settings` also called the the settings_name. This is a user-defined name to identify one particular setting.\n",
    "* `description`: this is just a user-defined description to explain the function\n",
    "* `func`: this is the function that is passed to the data. E.g.:\n",
    "    * `np.mean`\n",
    "* `global_settings`: these are keyword arguments passed to the data, as is. E.g.:\n",
    "    * `{'keepdims':True}`\n",
    "    * `{}`\n",
    "* `entry_settings`: these are keyword arguments passed to the data mapped to specific columns. E.g.:\n",
    "    * `{'a':'data'}`\n",
    "* `assign_output`: What column to assign the output of the function to. E.g.:\n",
    "    * in this case it would be the \"stat\" column"
   ]
  },
  {
   "cell_type": "markdown",
   "metadata": {},
   "source": [
    "Let's try to insert settings for our `StatAutoComputed` table:"
   ]
  },
  {
   "cell_type": "code",
   "execution_count": 7,
   "metadata": {},
   "outputs": [],
   "source": [
    "settings_table = StatAutoComputed.settings_table()\n",
    "\n",
    "settings_table.insert1({\n",
    "    settings_table.settings_name: 'mean', \n",
    "    'description': 'calculate the mean of data', \n",
    "    'func': np.mean, \n",
    "    'global_settings': {}, \n",
    "    'entry_settings': {'a': 'data'}, \n",
    "    'assign_output': 'stat'\n",
    "})"
   ]
  },
  {
   "cell_type": "code",
   "execution_count": 8,
   "metadata": {},
   "outputs": [],
   "source": [
    "StatAutoComputed.populate('mean')"
   ]
  },
  {
   "cell_type": "markdown",
   "metadata": {},
   "source": [
    "Let's take a look if we populated the table"
   ]
  },
  {
   "cell_type": "code",
   "execution_count": 9,
   "metadata": {},
   "outputs": [
    {
     "data": {
      "text/html": [
       "\n",
       "        \n",
       "        <style type=\"text/css\">\n",
       "            .Relation{\n",
       "                border-collapse:collapse;\n",
       "            }\n",
       "            .Relation th{\n",
       "                background: #A0A0A0; color: #ffffff; padding:4px; border:#f0e0e0 1px solid;\n",
       "                font-weight: normal; font-family: monospace; font-size: 100%;\n",
       "            }\n",
       "            .Relation td{\n",
       "                padding:4px; border:#f0e0e0 1px solid; font-size:100%;\n",
       "            }\n",
       "            .Relation tr:nth-child(odd){\n",
       "                background: #ffffff;\n",
       "            }\n",
       "            .Relation tr:nth-child(even){\n",
       "                background: #f3f1ff;\n",
       "            }\n",
       "            /* Tooltip container */\n",
       "            .djtooltip {\n",
       "            }\n",
       "            /* Tooltip text */\n",
       "            .djtooltip .djtooltiptext {\n",
       "                visibility: hidden;\n",
       "                width: 120px;\n",
       "                background-color: black;\n",
       "                color: #fff;\n",
       "                text-align: center;\n",
       "                padding: 5px 0;\n",
       "                border-radius: 6px;\n",
       "                /* Position the tooltip text - see examples below! */\n",
       "                position: absolute;\n",
       "                z-index: 1;\n",
       "            }\n",
       "            #primary {\n",
       "                font-weight: bold;\n",
       "                color: black;\n",
       "            }\n",
       "\n",
       "            #nonprimary {\n",
       "                font-weight: normal;\n",
       "                color: white;\n",
       "            }\n",
       "\n",
       "            /* Show the tooltip text when you mouse over the tooltip container */\n",
       "            .djtooltip:hover .djtooltiptext {\n",
       "                visibility: visible;\n",
       "            }\n",
       "        </style>\n",
       "        \n",
       "        <b></b>\n",
       "            <div style=\"max-height:1000px;max-width:1500px;overflow:auto;\">\n",
       "            <table border=\"1\" class=\"Relation\">\n",
       "                <thead> <tr style=\"text-align: right;\"> <th> <div class=\"djtooltip\">\n",
       "                                <p id=\"primary\">id</p>\n",
       "                                <span class=\"djtooltiptext\"></span>\n",
       "                            </div></th><th><div class=\"djtooltip\">\n",
       "                                <p id=\"primary\">stat_auto_computed_populate_settings</p>\n",
       "                                <span class=\"djtooltiptext\"></span>\n",
       "                            </div></th><th><div class=\"djtooltip\">\n",
       "                                <p id=\"nonprimary\">stat</p>\n",
       "                                <span class=\"djtooltiptext\"></span>\n",
       "                            </div> </th> </tr> </thead>\n",
       "                <tbody> <tr> <td>1</td>\n",
       "<td>mean</td>\n",
       "<td>=BLOB=</td></tr><tr><td>2</td>\n",
       "<td>mean</td>\n",
       "<td>=BLOB=</td></tr><tr><td>3</td>\n",
       "<td>mean</td>\n",
       "<td>=BLOB=</td></tr><tr><td>4</td>\n",
       "<td>mean</td>\n",
       "<td>=BLOB=</td></tr><tr><td>5</td>\n",
       "<td>mean</td>\n",
       "<td>=BLOB=</td></tr><tr><td>6</td>\n",
       "<td>mean</td>\n",
       "<td>=BLOB=</td></tr><tr><td>7</td>\n",
       "<td>mean</td>\n",
       "<td>=BLOB=</td> </tr> </tbody>\n",
       "            </table>\n",
       "            \n",
       "            <p>Total: 7</p></div>\n",
       "            "
      ],
      "text/plain": [
       "*id    *stat_auto_com stat      \n",
       "+----+ +------------+ +--------+\n",
       "1      mean           =BLOB=    \n",
       "2      mean           =BLOB=    \n",
       "3      mean           =BLOB=    \n",
       "4      mean           =BLOB=    \n",
       "5      mean           =BLOB=    \n",
       "6      mean           =BLOB=    \n",
       "7      mean           =BLOB=    \n",
       " (Total: 7)"
      ]
     },
     "execution_count": 9,
     "metadata": {},
     "output_type": "execute_result"
    }
   ],
   "source": [
    "StatAutoComputed()"
   ]
  },
  {
   "cell_type": "markdown",
   "metadata": {},
   "source": [
    "There is no real output that tells me a progress though during autopopulation!\n",
    "\n",
    "Let's delete what we have just autopopulated:"
   ]
  },
  {
   "cell_type": "code",
   "execution_count": 10,
   "metadata": {},
   "outputs": [
    {
     "name": "stdout",
     "output_type": "stream",
     "text": [
      "About to delete\n",
      "`lecture7`.`_#stat_auto_computed`: 7 items\n",
      "Proceed? [yes, No]: yes\n",
      "Commited.\n"
     ]
    }
   ],
   "source": [
    "StatAutoComputed.delete()"
   ]
  },
  {
   "cell_type": "markdown",
   "metadata": {},
   "source": [
    "We can use the verbose parameter in the populate method to print what was populated"
   ]
  },
  {
   "cell_type": "code",
   "execution_count": 11,
   "metadata": {},
   "outputs": [
    {
     "name": "stdout",
     "output_type": "stream",
     "text": [
      "Populated entry: {'id': 1, 'stat_auto_computed_populate_settings': 'mean'}\n",
      "Populated entry: {'id': 2, 'stat_auto_computed_populate_settings': 'mean'}\n",
      "Populated entry: {'id': 3, 'stat_auto_computed_populate_settings': 'mean'}\n",
      "Populated entry: {'id': 4, 'stat_auto_computed_populate_settings': 'mean'}\n",
      "Populated entry: {'id': 5, 'stat_auto_computed_populate_settings': 'mean'}\n",
      "Populated entry: {'id': 6, 'stat_auto_computed_populate_settings': 'mean'}\n",
      "Populated entry: {'id': 7, 'stat_auto_computed_populate_settings': 'mean'}\n"
     ]
    }
   ],
   "source": [
    "StatAutoComputed.populate('mean', verbose=True)"
   ]
  },
  {
   "cell_type": "markdown",
   "metadata": {},
   "source": [
    "So far we have done the same thing as in with the `StatComputed` table. But we can have multiple settings to autopopulate. So let's add another setting. "
   ]
  },
  {
   "cell_type": "code",
   "execution_count": 12,
   "metadata": {},
   "outputs": [],
   "source": [
    "settings_table.insert1({\n",
    "    settings_table.settings_name: 'mean_axis1', \n",
    "    'description': 'calculate the mean of data', \n",
    "    'func': np.mean, \n",
    "    'global_settings': {'axis': 0}, \n",
    "    'entry_settings': {'a': 'data'}, \n",
    "    'assign_output': 'stat'\n",
    "})"
   ]
  },
  {
   "cell_type": "code",
   "execution_count": 13,
   "metadata": {},
   "outputs": [
    {
     "name": "stdout",
     "output_type": "stream",
     "text": [
      "Populated entry: {'id': 1, 'stat_auto_computed_populate_settings': 'mean_axis1'}\n",
      "Populated entry: {'id': 2, 'stat_auto_computed_populate_settings': 'mean_axis1'}\n",
      "Populated entry: {'id': 3, 'stat_auto_computed_populate_settings': 'mean_axis1'}\n",
      "Populated entry: {'id': 4, 'stat_auto_computed_populate_settings': 'mean_axis1'}\n",
      "Populated entry: {'id': 5, 'stat_auto_computed_populate_settings': 'mean_axis1'}\n",
      "Populated entry: {'id': 6, 'stat_auto_computed_populate_settings': 'mean_axis1'}\n",
      "Populated entry: {'id': 7, 'stat_auto_computed_populate_settings': 'mean_axis1'}\n"
     ]
    }
   ],
   "source": [
    "StatAutoComputed.populate('mean_axis1', verbose=True)"
   ]
  },
  {
   "cell_type": "markdown",
   "metadata": {},
   "source": [
    "We can also use a totally different function"
   ]
  },
  {
   "cell_type": "code",
   "execution_count": 14,
   "metadata": {},
   "outputs": [],
   "source": [
    "settings_table.insert1({\n",
    "    settings_table.settings_name: 'std', \n",
    "    'description': 'calculate the mean of data', \n",
    "    'func': np.std, \n",
    "    'global_settings': {}, \n",
    "    'entry_settings': {'a': 'data'}, \n",
    "    'assign_output': 'stat'\n",
    "})"
   ]
  },
  {
   "cell_type": "code",
   "execution_count": 15,
   "metadata": {},
   "outputs": [
    {
     "name": "stdout",
     "output_type": "stream",
     "text": [
      "Populated entry: {'id': 1, 'stat_auto_computed_populate_settings': 'std'}\n",
      "Populated entry: {'id': 2, 'stat_auto_computed_populate_settings': 'std'}\n",
      "Populated entry: {'id': 3, 'stat_auto_computed_populate_settings': 'std'}\n",
      "Populated entry: {'id': 4, 'stat_auto_computed_populate_settings': 'std'}\n",
      "Populated entry: {'id': 5, 'stat_auto_computed_populate_settings': 'std'}\n",
      "Populated entry: {'id': 6, 'stat_auto_computed_populate_settings': 'std'}\n",
      "Populated entry: {'id': 7, 'stat_auto_computed_populate_settings': 'std'}\n"
     ]
    }
   ],
   "source": [
    "StatAutoComputed.populate('std', verbose=True)"
   ]
  },
  {
   "cell_type": "markdown",
   "metadata": {},
   "source": [
    "Now let's take a look at our table:"
   ]
  },
  {
   "cell_type": "code",
   "execution_count": 16,
   "metadata": {},
   "outputs": [
    {
     "data": {
      "text/html": [
       "\n",
       "        \n",
       "        <style type=\"text/css\">\n",
       "            .Relation{\n",
       "                border-collapse:collapse;\n",
       "            }\n",
       "            .Relation th{\n",
       "                background: #A0A0A0; color: #ffffff; padding:4px; border:#f0e0e0 1px solid;\n",
       "                font-weight: normal; font-family: monospace; font-size: 100%;\n",
       "            }\n",
       "            .Relation td{\n",
       "                padding:4px; border:#f0e0e0 1px solid; font-size:100%;\n",
       "            }\n",
       "            .Relation tr:nth-child(odd){\n",
       "                background: #ffffff;\n",
       "            }\n",
       "            .Relation tr:nth-child(even){\n",
       "                background: #f3f1ff;\n",
       "            }\n",
       "            /* Tooltip container */\n",
       "            .djtooltip {\n",
       "            }\n",
       "            /* Tooltip text */\n",
       "            .djtooltip .djtooltiptext {\n",
       "                visibility: hidden;\n",
       "                width: 120px;\n",
       "                background-color: black;\n",
       "                color: #fff;\n",
       "                text-align: center;\n",
       "                padding: 5px 0;\n",
       "                border-radius: 6px;\n",
       "                /* Position the tooltip text - see examples below! */\n",
       "                position: absolute;\n",
       "                z-index: 1;\n",
       "            }\n",
       "            #primary {\n",
       "                font-weight: bold;\n",
       "                color: black;\n",
       "            }\n",
       "\n",
       "            #nonprimary {\n",
       "                font-weight: normal;\n",
       "                color: white;\n",
       "            }\n",
       "\n",
       "            /* Show the tooltip text when you mouse over the tooltip container */\n",
       "            .djtooltip:hover .djtooltiptext {\n",
       "                visibility: visible;\n",
       "            }\n",
       "        </style>\n",
       "        \n",
       "        <b></b>\n",
       "            <div style=\"max-height:1000px;max-width:1500px;overflow:auto;\">\n",
       "            <table border=\"1\" class=\"Relation\">\n",
       "                <thead> <tr style=\"text-align: right;\"> <th> <div class=\"djtooltip\">\n",
       "                                <p id=\"primary\">id</p>\n",
       "                                <span class=\"djtooltiptext\"></span>\n",
       "                            </div></th><th><div class=\"djtooltip\">\n",
       "                                <p id=\"primary\">stat_auto_computed_populate_settings</p>\n",
       "                                <span class=\"djtooltiptext\"></span>\n",
       "                            </div></th><th><div class=\"djtooltip\">\n",
       "                                <p id=\"nonprimary\">stat</p>\n",
       "                                <span class=\"djtooltiptext\"></span>\n",
       "                            </div> </th> </tr> </thead>\n",
       "                <tbody> <tr> <td>1</td>\n",
       "<td>mean</td>\n",
       "<td>=BLOB=</td></tr><tr><td>2</td>\n",
       "<td>mean</td>\n",
       "<td>=BLOB=</td></tr><tr><td>3</td>\n",
       "<td>mean</td>\n",
       "<td>=BLOB=</td></tr><tr><td>4</td>\n",
       "<td>mean</td>\n",
       "<td>=BLOB=</td></tr><tr><td>5</td>\n",
       "<td>mean</td>\n",
       "<td>=BLOB=</td></tr><tr><td>6</td>\n",
       "<td>mean</td>\n",
       "<td>=BLOB=</td></tr><tr><td>7</td>\n",
       "<td>mean</td>\n",
       "<td>=BLOB=</td></tr><tr><td>1</td>\n",
       "<td>mean_axis1</td>\n",
       "<td>=BLOB=</td></tr><tr><td>2</td>\n",
       "<td>mean_axis1</td>\n",
       "<td>=BLOB=</td></tr><tr><td>3</td>\n",
       "<td>mean_axis1</td>\n",
       "<td>=BLOB=</td></tr><tr><td>4</td>\n",
       "<td>mean_axis1</td>\n",
       "<td>=BLOB=</td></tr><tr><td>5</td>\n",
       "<td>mean_axis1</td>\n",
       "<td>=BLOB=</td> </tr> </tbody>\n",
       "            </table>\n",
       "            <p>...</p>\n",
       "            <p>Total: 21</p></div>\n",
       "            "
      ],
      "text/plain": [
       "*id    *stat_auto_com stat      \n",
       "+----+ +------------+ +--------+\n",
       "1      mean           =BLOB=    \n",
       "2      mean           =BLOB=    \n",
       "3      mean           =BLOB=    \n",
       "4      mean           =BLOB=    \n",
       "5      mean           =BLOB=    \n",
       "6      mean           =BLOB=    \n",
       "7      mean           =BLOB=    \n",
       "1      mean_axis1     =BLOB=    \n",
       "2      mean_axis1     =BLOB=    \n",
       "3      mean_axis1     =BLOB=    \n",
       "4      mean_axis1     =BLOB=    \n",
       "5      mean_axis1     =BLOB=    \n",
       "   ...\n",
       " (Total: 21)"
      ]
     },
     "execution_count": 16,
     "metadata": {},
     "output_type": "execute_result"
    }
   ],
   "source": [
    "StatAutoComputed()"
   ]
  },
  {
   "cell_type": "markdown",
   "metadata": {},
   "source": [
    "Let's make our example a little more complicated."
   ]
  },
  {
   "cell_type": "code",
   "execution_count": 17,
   "metadata": {},
   "outputs": [],
   "source": [
    "schema = dj.schema('lecture7')\n",
    "schema.drop(True)\n",
    "schema = dj.schema('lecture7')\n",
    "\n",
    "@schema\n",
    "class Data(dj.Manual):\n",
    "    definition = \"\"\"\n",
    "    id : int auto_increment\n",
    "    ---\n",
    "    data : longblob\n",
    "    \"\"\"\n",
    "    \n",
    "@schema\n",
    "class Weights(dj.Computed):\n",
    "    definition = \"\"\"\n",
    "    -> Data\n",
    "    ---\n",
    "    weights : longblob\n",
    "    \"\"\"\n",
    "    \n",
    "    def make(self, key):\n",
    "        data = (Data & key).fetch1('data')\n",
    "        weights = np.random.random(data.shape)\n",
    "        key['weights'] = weights\n",
    "        self.insert1(key)\n",
    "    \n",
    "@schema\n",
    "class StatComputed(dj.Computed):\n",
    "    definition = \"\"\"\n",
    "    -> Weights\n",
    "    ---\n",
    "    stat : longblob\n",
    "    \"\"\"\n",
    "    \n",
    "    def make(self, key):\n",
    "        # join then fetch\n",
    "        data, weights = ((Data * Weights) & key).fetch1('data', 'weights')\n",
    "        \n",
    "        output = np.mean(data * weights)\n",
    "        \n",
    "        key['stat'] = output\n",
    "        \n",
    "        self.insert1(key)\n",
    "        \n",
    "        print(f'inserted id: {key[\"id\"]}')\n",
    "    \n",
    "@schema\n",
    "class StatAutoComputed(dj.AutoComputed):\n",
    "    definition = \"\"\"\n",
    "    -> Weights\n",
    "    ---\n",
    "    stat : longblob\n",
    "    \"\"\"\n",
    "    \n",
    "Data.insert([\n",
    "    {'data': np.random.random((100, 5))}, \n",
    "    {'data': np.random.random((150, 5))}, \n",
    "    {'data': np.random.random((100, 4))}, \n",
    "    {'data': np.random.random((100, 5))}, \n",
    "    {'data': np.random.random((200, 3))}, \n",
    "    {'data': np.random.random((10, 10))}, \n",
    "    {'data': np.random.random((1000, 2))}\n",
    "])\n",
    "Weights.populate()"
   ]
  },
  {
   "cell_type": "code",
   "execution_count": 18,
   "metadata": {},
   "outputs": [
    {
     "name": "stdout",
     "output_type": "stream",
     "text": [
      "inserted id: 1\n",
      "inserted id: 2\n",
      "inserted id: 3\n",
      "inserted id: 4\n",
      "inserted id: 5\n",
      "inserted id: 6\n",
      "inserted id: 7\n"
     ]
    }
   ],
   "source": [
    "StatComputed.populate()"
   ]
  },
  {
   "cell_type": "markdown",
   "metadata": {},
   "source": [
    "Now we have a problem. We want to join our data and fetch two different types of data (`data` and `weights`), multiply these data and then take the mean. \n",
    "\n",
    "How do we set this up in the settingtable?"
   ]
  },
  {
   "cell_type": "code",
   "execution_count": 19,
   "metadata": {},
   "outputs": [
    {
     "name": "stdout",
     "output_type": "stream",
     "text": [
      "\n",
      "        stat_auto_computed_populate_settings : varchar(63)\n",
      "        ---\n",
      "        description = null : varchar(4000) # any string to describe setting\n",
      "        func : longblob # two-tuple of strings (module, function) or callable\n",
      "        global_settings : longblob # dictionary\n",
      "        entry_settings : longblob # dictionary\n",
      "        fetch_method = 'fetch1' : enum('fetch', 'fetch1', 'farfetch', 'farfetch1')\n",
      "        fetch_tables = null : longblob # dictionary of dict(table_name: projection)\n",
      "        assign_output = null : longblob # overrides make_compatible to simply assign the output to a column\n",
      "        restrictions = null : longblob # dictionary or list of restrictions\n",
      "        parse_unique = null : longblob # list of unique entries for fetch\n",
      "        created = CURRENT_TIMESTAMP : timestamp\n",
      "        \n"
     ]
    }
   ],
   "source": [
    "print(StatAutoComputed.settings_table().definition)"
   ]
  },
  {
   "cell_type": "code",
   "execution_count": null,
   "metadata": {},
   "outputs": [],
   "source": [
    "fetch_tables = {\n",
    "    Data: ['data']\n",
    "    Weights: ['weights']\n",
    "}"
   ]
  },
  {
   "cell_type": "markdown",
   "metadata": {},
   "source": [
    "* `fetch_tables`: Allows you to define multiple tables to fetch data from\n",
    "    * `fetch_tables` wants you to pass a dictionary where the keys are tables or table names and the values are the columns to project\n",
    "    * when this is not given then it will only fetch data from tables directly upstream!\n",
    "\n",
    "Let's also define a function that multiplies the weights and data and then calculates the mean"
   ]
  },
  {
   "cell_type": "code",
   "execution_count": 20,
   "metadata": {},
   "outputs": [],
   "source": [
    "def weighted_mean(a, weights, axis=None):\n",
    "    return np.mean(a*weights, axis=axis)"
   ]
  },
  {
   "cell_type": "markdown",
   "metadata": {},
   "source": [
    "Let's try to insert this function with the fetch_tables argument:"
   ]
  },
  {
   "cell_type": "code",
   "execution_count": 21,
   "metadata": {},
   "outputs": [
    {
     "ename": "DataJointError",
     "evalue": "module <module '__main__'> does not have an associated file",
     "output_type": "error",
     "traceback": [
      "\u001b[0;31m---------------------------------------------------------------------------\u001b[0m",
      "\u001b[0;31mDataJointError\u001b[0m                            Traceback (most recent call last)",
      "\u001b[0;32m<ipython-input-21-6ebf5edeb3ba>\u001b[0m in \u001b[0;36m<module>\u001b[0;34m\u001b[0m\n\u001b[1;32m     10\u001b[0m     'fetch_tables': {\n\u001b[1;32m     11\u001b[0m         \u001b[0mData\u001b[0m\u001b[0;34m:\u001b[0m \u001b[0;34m[\u001b[0m\u001b[0;34m'data'\u001b[0m\u001b[0;34m]\u001b[0m\u001b[0;34m,\u001b[0m\u001b[0;34m\u001b[0m\u001b[0;34m\u001b[0m\u001b[0m\n\u001b[0;32m---> 12\u001b[0;31m         \u001b[0mWeights\u001b[0m\u001b[0;34m:\u001b[0m \u001b[0;34m[\u001b[0m\u001b[0;34m'weights'\u001b[0m\u001b[0;34m]\u001b[0m\u001b[0;34m\u001b[0m\u001b[0;34m\u001b[0m\u001b[0m\n\u001b[0m\u001b[1;32m     13\u001b[0m     }\n\u001b[1;32m     14\u001b[0m })\n",
      "\u001b[0;32m~/opt/anaconda3/lib/python3.7/site-packages/datajoint/settings_table.py\u001b[0m in \u001b[0;36minsert1\u001b[0;34m(self, row, **kwargs)\u001b[0m\n\u001b[1;32m    689\u001b[0m             )\n\u001b[1;32m    690\u001b[0m \u001b[0;34m\u001b[0m\u001b[0m\n\u001b[0;32m--> 691\u001b[0;31m         \u001b[0mrow\u001b[0m\u001b[0;34m[\u001b[0m\u001b[0;34m'func'\u001b[0m\u001b[0;34m]\u001b[0m \u001b[0;34m=\u001b[0m \u001b[0mself\u001b[0m\u001b[0;34m.\u001b[0m\u001b[0m_get_func_attr\u001b[0m\u001b[0;34m(\u001b[0m\u001b[0mrow\u001b[0m\u001b[0;34m[\u001b[0m\u001b[0;34m'func'\u001b[0m\u001b[0;34m]\u001b[0m\u001b[0;34m)\u001b[0m\u001b[0;34m\u001b[0m\u001b[0;34m\u001b[0m\u001b[0m\n\u001b[0m\u001b[1;32m    692\u001b[0m \u001b[0;34m\u001b[0m\u001b[0m\n\u001b[1;32m    693\u001b[0m         row['global_settings'] = self._check_settings(\n",
      "\u001b[0;32m~/opt/anaconda3/lib/python3.7/site-packages/datajoint/settings_table.py\u001b[0m in \u001b[0;36m_get_func_attr\u001b[0;34m(self, func)\u001b[0m\n\u001b[1;32m    614\u001b[0m \u001b[0;34m\u001b[0m\u001b[0m\n\u001b[1;32m    615\u001b[0m         \u001b[0mfunc\u001b[0m \u001b[0;34m=\u001b[0m \u001b[0mself\u001b[0m\u001b[0;34m.\u001b[0m\u001b[0m_get_func\u001b[0m\u001b[0;34m(\u001b[0m\u001b[0mattr\u001b[0m\u001b[0;34m[\u001b[0m\u001b[0;34m'func'\u001b[0m\u001b[0;34m]\u001b[0m\u001b[0;34m)\u001b[0m\u001b[0;34m\u001b[0m\u001b[0;34m\u001b[0m\u001b[0m\n\u001b[0;32m--> 616\u001b[0;31m         \u001b[0mself\u001b[0m\u001b[0;34m.\u001b[0m\u001b[0m_check_func\u001b[0m\u001b[0;34m(\u001b[0m\u001b[0mfunc\u001b[0m\u001b[0;34m)\u001b[0m\u001b[0;34m\u001b[0m\u001b[0;34m\u001b[0m\u001b[0m\n\u001b[0m\u001b[1;32m    617\u001b[0m         \u001b[0mattr\u001b[0m\u001b[0;34m.\u001b[0m\u001b[0mupdate\u001b[0m\u001b[0;34m(\u001b[0m\u001b[0mself\u001b[0m\u001b[0;34m.\u001b[0m\u001b[0m_get_func_status\u001b[0m\u001b[0;34m(\u001b[0m\u001b[0mfunc\u001b[0m\u001b[0;34m)\u001b[0m\u001b[0;34m)\u001b[0m\u001b[0;34m\u001b[0m\u001b[0;34m\u001b[0m\u001b[0m\n\u001b[1;32m    618\u001b[0m         \u001b[0mattr\u001b[0m\u001b[0;34m.\u001b[0m\u001b[0mupdate\u001b[0m\u001b[0;34m(\u001b[0m\u001b[0mself\u001b[0m\u001b[0;34m.\u001b[0m\u001b[0m_get_func_params\u001b[0m\u001b[0;34m(\u001b[0m\u001b[0mfunc\u001b[0m\u001b[0;34m)\u001b[0m\u001b[0;34m)\u001b[0m\u001b[0;34m\u001b[0m\u001b[0;34m\u001b[0m\u001b[0m\n",
      "\u001b[0;32m~/opt/anaconda3/lib/python3.7/site-packages/datajoint/settings_table.py\u001b[0m in \u001b[0;36m_check_func\u001b[0;34m(func)\u001b[0m\n\u001b[1;32m    409\u001b[0m         \u001b[0;32melif\u001b[0m \u001b[0;32mnot\u001b[0m \u001b[0mhasattr\u001b[0m\u001b[0;34m(\u001b[0m\u001b[0mmodule\u001b[0m\u001b[0;34m,\u001b[0m \u001b[0;34m'__file__'\u001b[0m\u001b[0;34m)\u001b[0m\u001b[0;34m:\u001b[0m\u001b[0;34m\u001b[0m\u001b[0;34m\u001b[0m\u001b[0m\n\u001b[1;32m    410\u001b[0m             raise DataJointError(\n\u001b[0;32m--> 411\u001b[0;31m                 \u001b[0;34m'module {} does not have an associated file'\u001b[0m\u001b[0;34m.\u001b[0m\u001b[0mformat\u001b[0m\u001b[0;34m(\u001b[0m\u001b[0mmodule\u001b[0m\u001b[0;34m)\u001b[0m\u001b[0;34m\u001b[0m\u001b[0;34m\u001b[0m\u001b[0m\n\u001b[0m\u001b[1;32m    412\u001b[0m             )\n\u001b[1;32m    413\u001b[0m \u001b[0;34m\u001b[0m\u001b[0m\n",
      "\u001b[0;31mDataJointError\u001b[0m: module <module '__main__'> does not have an associated file"
     ]
    }
   ],
   "source": [
    "settings_table = StatAutoComputed.settings_table()\n",
    "\n",
    "settings_table.insert1({\n",
    "    settings_table.settings_name: 'mean', \n",
    "    'description': 'calculate the mean of data', \n",
    "    'func': weighted_mean, \n",
    "    'global_settings': {}, \n",
    "    'entry_settings': {'a': 'data'}, \n",
    "    'assign_output': 'stat', \n",
    "    'fetch_tables': {\n",
    "        Data: ['data'], \n",
    "        Weights: ['weights']\n",
    "    }\n",
    "})"
   ]
  },
  {
   "cell_type": "markdown",
   "metadata": {},
   "source": [
    "So this didn't work. This is because your function is defined within your jupyter notebook rather than a python file. The settings table wants your functions defined separately from the notebook session you are working in. "
   ]
  },
  {
   "cell_type": "code",
   "execution_count": 22,
   "metadata": {},
   "outputs": [],
   "source": [
    "from functions import weighted_mean"
   ]
  },
  {
   "cell_type": "code",
   "execution_count": 23,
   "metadata": {},
   "outputs": [
    {
     "name": "stderr",
     "output_type": "stream",
     "text": [
      "/Users/skb/opt/anaconda3/lib/python3.7/site-packages/datajoint/settings_table.py:956: UserWarning: You have uncommited changes. Consider committing before running populate.\n",
      "  'You have uncommited changes. '\n"
     ]
    }
   ],
   "source": [
    "settings_table.insert1({\n",
    "    settings_table.settings_name: 'mean', \n",
    "    'description': 'calculate the mean of data', \n",
    "    'func': weighted_mean, \n",
    "    'global_settings': {}, \n",
    "    'entry_settings': {'a': 'data', 'weights':'weights'}, \n",
    "    'assign_output': 'stat', \n",
    "    'fetch_tables': {\n",
    "        Data: ['data'], \n",
    "        Weights: ['weights']\n",
    "    }\n",
    "})"
   ]
  },
  {
   "cell_type": "markdown",
   "metadata": {},
   "source": [
    "This warning popped up because the settings table can check if you have defined this function within a git repository you are using, and thus will track any changes to the repository (in this case its the course repository). Similarly for functions that you imported from packages (such as `np.mean`), the settings table will check the version of this package, before inserting the setting into the database. This is a somewhat more advanced feature that will allow you to track the environment in which you inserted a particular function. For now, you can ignore this warning. \n",
    "\n",
    "You can turn off these warning by setting a dj.config variable to False:"
   ]
  },
  {
   "cell_type": "code",
   "execution_count": 25,
   "metadata": {},
   "outputs": [],
   "source": [
    "dj.config['automaker_warnings'] = False"
   ]
  },
  {
   "cell_type": "markdown",
   "metadata": {},
   "source": [
    "A safer way to insert a function given a file that should run independently of its working directory is to insert the whole file with the function as such:"
   ]
  },
  {
   "cell_type": "code",
   "execution_count": 24,
   "metadata": {},
   "outputs": [
    {
     "name": "stderr",
     "output_type": "stream",
     "text": [
      "/Users/skb/opt/anaconda3/lib/python3.7/site-packages/datajoint/settings_table.py:956: UserWarning: You have uncommited changes. Consider committing before running populate.\n",
      "  'You have uncommited changes. '\n"
     ]
    }
   ],
   "source": [
    "settings_table.insert1({\n",
    "    settings_table.settings_name: 'mean_save', \n",
    "    'description': 'calculate the mean of data', \n",
    "    'func': ('functions.py', 'weighted_mean'), \n",
    "    'global_settings': {}, \n",
    "    'entry_settings': {'a': 'data', 'weights':'weights'}, \n",
    "    'assign_output': 'stat', \n",
    "    'fetch_tables': {\n",
    "        Data: ['data'], \n",
    "        Weights: ['weights']\n",
    "    }\n",
    "})"
   ]
  },
  {
   "cell_type": "markdown",
   "metadata": {},
   "source": [
    "This will allow you to use the function even if your working directory does not contain the `functions.py` file. "
   ]
  },
  {
   "cell_type": "code",
   "execution_count": 26,
   "metadata": {},
   "outputs": [
    {
     "name": "stdout",
     "output_type": "stream",
     "text": [
      "Populated entry: {'id': 1, 'stat_auto_computed_populate_settings': 'mean_save'}\n",
      "Populated entry: {'id': 2, 'stat_auto_computed_populate_settings': 'mean_save'}\n",
      "Populated entry: {'id': 3, 'stat_auto_computed_populate_settings': 'mean_save'}\n",
      "Populated entry: {'id': 4, 'stat_auto_computed_populate_settings': 'mean_save'}\n",
      "Populated entry: {'id': 5, 'stat_auto_computed_populate_settings': 'mean_save'}\n",
      "Populated entry: {'id': 6, 'stat_auto_computed_populate_settings': 'mean_save'}\n",
      "Populated entry: {'id': 7, 'stat_auto_computed_populate_settings': 'mean_save'}\n"
     ]
    }
   ],
   "source": [
    "StatAutoComputed.populate('mean_save', verbose=True)"
   ]
  },
  {
   "cell_type": "markdown",
   "metadata": {},
   "source": [
    "Similarly to the previous examples, we can define multiple functions to autopopulate the `StatAutoComputed` table."
   ]
  },
  {
   "cell_type": "code",
   "execution_count": 33,
   "metadata": {},
   "outputs": [
    {
     "data": {
      "image/svg+xml": [
       "<svg height=\"176pt\" viewBox=\"0.00 0.00 200.50 176.00\" width=\"201pt\" xmlns=\"http://www.w3.org/2000/svg\" xmlns:xlink=\"http://www.w3.org/1999/xlink\">\n",
       "<g class=\"graph\" id=\"graph0\" transform=\"scale(1 1) rotate(0) translate(4 172)\">\n",
       "<title>%3</title>\n",
       "<polygon fill=\"#ffffff\" points=\"-4,4 -4,-172 196.5,-172 196.5,4 -4,4\" stroke=\"transparent\"/>\n",
       "<!-- StatAutoComputedSettings -->\n",
       "<g class=\"node\" id=\"node1\">\n",
       "<title>StatAutoComputedSettings</title>\n",
       "<g id=\"a_node1\"><a xlink:title=\"stat_auto_computed_populate_settings \r",
       "------------------------------\r",
       "description=null     \r",
       "func                 \r",
       "global_settings      \r",
       "entry_settings       \r",
       "fetch_method=&quot;fetch1&quot; \r",
       "fetch_tables=null    \r",
       "assign_output=null   \r",
       "restrictions=null    \r",
       "parse_unique=null    \r",
       "created=CURRENT_TIMESTAMP \r",
       "\">\n",
       "<polygon fill=\"#ff7f50\" points=\"107,-97 0,-97 0,-62 107,-62 107,-97\" stroke=\"#ff7f50\"/>\n",
       "<text fill=\"#000000\" font-family=\"arial\" font-size=\"10.00\" text-anchor=\"start\" text-decoration=\"underline\" x=\"8\" y=\"-78\">StatAutoComputedSettings</text>\n",
       "</a>\n",
       "</g>\n",
       "</g>\n",
       "<!-- StatAutoComputed -->\n",
       "<g class=\"node\" id=\"node2\">\n",
       "<title>StatAutoComputed</title>\n",
       "<g id=\"a_node2\"><a xlink:title=\"→ Weights\r",
       "→ StatAutoComputedSettings\r",
       "------------------------------\r",
       "stat                 \r",
       "\">\n",
       "<ellipse cx=\"53.5\" cy=\"-13\" fill=\"#ff00ff\" rx=\"13\" ry=\"13\" stroke=\"#ff00ff\"/>\n",
       "<text fill=\"#000000\" font-family=\"arial\" font-size=\"12.00\" text-anchor=\"middle\" x=\"53.5\" y=\"-9.9\">StatAutoComputed</text>\n",
       "</a>\n",
       "</g>\n",
       "</g>\n",
       "<!-- StatAutoComputedSettings&#45;&gt;StatAutoComputed -->\n",
       "<g class=\"edge\" id=\"edge1\">\n",
       "<title>StatAutoComputedSettings-&gt;StatAutoComputed</title>\n",
       "<path d=\"M53.5,-61.6792C53.5,-50.4451 53.5,-36.1917 53.5,-26.0168\" fill=\"none\" stroke=\"#000000\" stroke-opacity=\"0.250980\" stroke-width=\".75\"/>\n",
       "</g>\n",
       "<!-- Weights -->\n",
       "<g class=\"node\" id=\"node3\">\n",
       "<title>Weights</title>\n",
       "<g id=\"a_node3\"><a xlink:title=\"→ Data\r",
       "------------------------------\r",
       "weights              \r",
       "\">\n",
       "<ellipse cx=\"152.5\" cy=\"-79.5\" fill=\"#ff00ff\" rx=\"13\" ry=\"13\" stroke=\"#ff00ff\"/>\n",
       "<text fill=\"#000000\" font-family=\"arial\" font-size=\"12.00\" text-anchor=\"middle\" x=\"152.5\" y=\"-76.4\">Weights</text>\n",
       "</a>\n",
       "</g>\n",
       "</g>\n",
       "<!-- Weights&#45;&gt;StatAutoComputed -->\n",
       "<g class=\"edge\" id=\"edge2\">\n",
       "<title>Weights-&gt;StatAutoComputed</title>\n",
       "<path d=\"M141.527,-72.1293C122.4972,-59.3466 83.5861,-33.2094 64.5221,-20.4038\" fill=\"none\" stroke=\"#000000\" stroke-opacity=\"0.250980\" stroke-width=\".75\"/>\n",
       "</g>\n",
       "<!-- StatComputed -->\n",
       "<g class=\"node\" id=\"node4\">\n",
       "<title>StatComputed</title>\n",
       "<g id=\"a_node4\"><a xlink:title=\"→ Weights\r",
       "------------------------------\r",
       "stat                 \r",
       "\">\n",
       "<ellipse cx=\"155.5\" cy=\"-13\" fill=\"#ff00ff\" rx=\"13\" ry=\"13\" stroke=\"#ff00ff\"/>\n",
       "<text fill=\"#000000\" font-family=\"arial\" font-size=\"12.00\" text-anchor=\"middle\" x=\"155.5\" y=\"-9.9\">StatComputed</text>\n",
       "</a>\n",
       "</g>\n",
       "</g>\n",
       "<!-- Weights&#45;&gt;StatComputed -->\n",
       "<g class=\"edge\" id=\"edge3\">\n",
       "<title>Weights-&gt;StatComputed</title>\n",
       "<path d=\"M153.0927,-66.3617C153.6186,-54.7034 154.383,-37.7611 154.9085,-26.111\" fill=\"none\" stroke=\"#000000\" stroke-opacity=\"0.250980\" stroke-width=\"2\"/>\n",
       "</g>\n",
       "<!-- Data -->\n",
       "<g class=\"node\" id=\"node5\">\n",
       "<title>Data</title>\n",
       "<g id=\"a_node5\"><a xlink:title=\"id                   \r",
       "------------------------------\r",
       "data                 \r",
       "\">\n",
       "<polygon fill=\"#adff2f\" points=\"170.5,-168 134.5,-168 134.5,-133 170.5,-133 170.5,-168\" stroke=\"#adff2f\"/>\n",
       "<text fill=\"#000000\" font-family=\"arial\" font-size=\"12.00\" text-anchor=\"start\" text-decoration=\"underline\" x=\"142.5\" y=\"-148.4\">Data</text>\n",
       "</a>\n",
       "</g>\n",
       "</g>\n",
       "<!-- Data&#45;&gt;Weights -->\n",
       "<g class=\"edge\" id=\"edge4\">\n",
       "<title>Data-&gt;Weights</title>\n",
       "<path d=\"M152.5,-132.9494C152.5,-120.4658 152.5,-103.9634 152.5,-92.6156\" fill=\"none\" stroke=\"#000000\" stroke-opacity=\"0.250980\" stroke-width=\"2\"/>\n",
       "</g>\n",
       "</g>\n",
       "</svg>"
      ],
      "text/plain": [
       "<datajoint.diagram.Diagram at 0xa1c87c150>"
      ]
     },
     "execution_count": 33,
     "metadata": {},
     "output_type": "execute_result"
    }
   ],
   "source": [
    "dj.ERD(schema)"
   ]
  },
  {
   "cell_type": "markdown",
   "metadata": {},
   "source": [
    "Why I use `AutoComputed/Imported` tables over `Computed/Imported` tables:\n",
    "\n",
    "* avoid a large chunck of code in the `make` method\n",
    "* separate my table definitions from my autopopulation functions\n",
    "* For calcium imaging data, it can be useful to run different algorithms to preprocess data. Having these as separate scripts makes it easier to handle and having them defined separately in the settings table keeps my workflow organized. I generally have all my analysis scripts in a separate git repository that I can import as one. \n",
    "* Sometimes I only want to change a couple `global_settings` and see how those change my result. In this case I can `fetch1` an old setting and insert it back into the settings table with `global_settings` changed. This makes it easy to modify existing functions, and keep track of different parameterizations."
   ]
  },
  {
   "cell_type": "markdown",
   "metadata": {},
   "source": [
    "For the Homework we will rework part2 of the last homework for `AutoComputed` tables."
   ]
  },
  {
   "cell_type": "code",
   "execution_count": null,
   "metadata": {},
   "outputs": [],
   "source": []
  }
 ],
 "metadata": {
  "kernelspec": {
   "display_name": "Python 3",
   "language": "python",
   "name": "python3"
  },
  "language_info": {
   "codemirror_mode": {
    "name": "ipython",
    "version": 3
   },
   "file_extension": ".py",
   "mimetype": "text/x-python",
   "name": "python",
   "nbconvert_exporter": "python",
   "pygments_lexer": "ipython3",
   "version": "3.7.6"
  }
 },
 "nbformat": 4,
 "nbformat_minor": 4
}
