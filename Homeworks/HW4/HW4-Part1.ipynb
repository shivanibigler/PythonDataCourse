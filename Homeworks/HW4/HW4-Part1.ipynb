{
 "cells": [
  {
   "cell_type": "markdown",
   "metadata": {},
   "source": [
    "# HW4 Part 1 - Review of Python Classes\n",
    "\n",
    "April 21, 2020\n",
    "\n",
    "The following is meant to be a brief review of classes in Python. If you feel comfortable with building and manipulating classes in Python, feel free to skim this part"
   ]
  },
  {
   "cell_type": "code",
   "execution_count": 1,
   "metadata": {},
   "outputs": [],
   "source": [
    "import numpy as np\n",
    "import matplotlib.pyplot as plt\n",
    "import pandas as pd"
   ]
  },
  {
   "cell_type": "markdown",
   "metadata": {},
   "source": [
    "## 1a) Create a class \"`Dog`\" with an `__init__` function that takes in the variable `name`"
   ]
  },
  {
   "cell_type": "code",
   "execution_count": 2,
   "metadata": {},
   "outputs": [],
   "source": [
    "class Dog:\n",
    "\n",
    "    def __init__(self, name):\n",
    "        self.name = name\n",
    "        # assign 'name' to self here as a data attribute"
   ]
  },
  {
   "cell_type": "code",
   "execution_count": 3,
   "metadata": {},
   "outputs": [],
   "source": [
    "mydog = Dog('Jojo')"
   ]
  },
  {
   "cell_type": "code",
   "execution_count": 4,
   "metadata": {},
   "outputs": [
    {
     "data": {
      "text/plain": [
       "'Jojo'"
      ]
     },
     "execution_count": 4,
     "metadata": {},
     "output_type": "execute_result"
    }
   ],
   "source": [
    "mydog.name"
   ]
  },
  {
   "cell_type": "markdown",
   "metadata": {},
   "source": [
    "# 1b) Add a method to this class `add_trick` that takes in a variable `trick`\n",
    "Keep in mind that a Dog might learn many tricks - you might keep track of the tricks it learns in a list"
   ]
  },
  {
   "cell_type": "code",
   "execution_count": 5,
   "metadata": {},
   "outputs": [],
   "source": [
    "class Dog:\n",
    "\n",
    "    def __init__(self, name):\n",
    "        self.name = name\n",
    "        self.tricks = [] # originally didn't have this\n",
    "        # your code here\n",
    "        \n",
    "    def add_trick(self, trick): # this is a method attribute\n",
    "        self.tricks.append(trick)\n",
    "    \n",
    "    #def add_trick(self, trick): # this is a method attribute\n",
    "    #    if hasattr(self, 'trick_list'):\n",
    "    #        self.trick_list = self.trick_list + ', ' + trick\n",
    "    #    else:\n",
    "    #        self.trick_list = trick"
   ]
  },
  {
   "cell_type": "code",
   "execution_count": 6,
   "metadata": {},
   "outputs": [
    {
     "name": "stdout",
     "output_type": "stream",
     "text": [
      "['roll over', 'play dead', 'flippy flip']\n"
     ]
    }
   ],
   "source": [
    "# test your code\n",
    "mydog = Dog('Jojo')\n",
    "mydog.add_trick('roll over')\n",
    "mydog.add_trick('play dead')\n",
    "mydog.add_trick('flippy flip')\n",
    "\n",
    "# print the tricks here\n",
    "# mydog.trick_list # complete here\n",
    "print(mydog.tricks)"
   ]
  },
  {
   "cell_type": "markdown",
   "metadata": {},
   "source": [
    "## 1c) Modify the class so that it keeps track of the dog's age, gender and species\n",
    "Would these be better as a data attributes or as a method attributes?"
   ]
  },
  {
   "cell_type": "code",
   "execution_count": 9,
   "metadata": {},
   "outputs": [
    {
     "name": "stdout",
     "output_type": "stream",
     "text": [
      "mammal\n",
      "mammal\n"
     ]
    }
   ],
   "source": [
    "class Dog:\n",
    "    \n",
    "    species = 'mammal'\n",
    "\n",
    "    def __init__(self, name, age, gender):\n",
    "        \n",
    "        # example of checking types for agruments/objects passed\n",
    "        # do not use type(name) == str\n",
    "        # but the isinstance method works with inheritance\n",
    "        # if the statement returns true, it'll pass\n",
    "        # if the statement returns false, it'll throw an assertion error\n",
    "        assert isinstance(name,str), 'name is not string.'\n",
    "        assert isinstance(age,(int,float))\n",
    "        assert gender in {'m','f','o'}\n",
    "        \n",
    "        self.name = name\n",
    "        self.age = age\n",
    "        self.gender = gender\n",
    "        self.tricks = []\n",
    "        # your code here\n",
    "        \n",
    "    def add_trick(self, trick): # this is a method attribute\n",
    "        self.tricks.append(trick)\n",
    "    \n",
    "    def update_age(self, age):\n",
    "        self.age = age\n",
    "\n",
    "mydog = Dog(name='Jojo',age=5,gender='m')\n",
    "# order of arguments doesn't matter if you use the keywords\n",
    "# mydog = Dog('Jojo',5,'m')\n",
    "# just so you can see that species is assigned at the class level\n",
    "print(Dog.species)\n",
    "print(mydog.species)\n",
    "\n",
    "mydog.update_age(6)\n",
    "# or mydog.age = 6\n",
    "        \n"
   ]
  },
  {
   "cell_type": "code",
   "execution_count": 10,
   "metadata": {},
   "outputs": [
    {
     "name": "stdout",
     "output_type": "stream",
     "text": [
      "gender:  blub\n",
      "{'name': 'Jojo', 'age': 6, 'gender': 'blub', 'tricks': []}\n"
     ]
    }
   ],
   "source": [
    "mydog.gender = 'blub'\n",
    "print('gender: ',mydog.gender)\n",
    "# this prints the attributes the class contains in a dictionary format\n",
    "print(mydog.__dict__)"
   ]
  },
  {
   "cell_type": "code",
   "execution_count": 16,
   "metadata": {},
   "outputs": [
    {
     "name": "stdout",
     "output_type": "stream",
     "text": [
      "('a', 'b', 'c')\n",
      "a b c\n"
     ]
    }
   ],
   "source": [
    "def print_anything(*args):\n",
    "    print(args)\n",
    "    print(*args)\n",
    "\n",
    "print_anything('a','b','c')"
   ]
  },
  {
   "cell_type": "code",
   "execution_count": 18,
   "metadata": {},
   "outputs": [
    {
     "name": "stdout",
     "output_type": "stream",
     "text": [
      "{'a': 'as', 'b': 'sjfslkd', 'fjlskd': 'kfjahs', 'dsf': 1, 'jkfl': <class '__main__.Dog'>}\n",
      "a as\n",
      "b sjfslkd\n",
      "fjlskd kfjahs\n",
      "dsf 1\n",
      "jkfl <class '__main__.Dog'>\n"
     ]
    }
   ],
   "source": [
    "def print_kwargs(**kwargs): # kwargs is a dictionary\n",
    "    print(kwargs)\n",
    "    for key, value in kwargs.items():\n",
    "        print(key, value)\n",
    "            \n",
    "print_kwargs(a='as',b='sjfslkd',fjlskd='kfjahs', dsf=1,jkfl=Dog) # iterate over the dictionary"
   ]
  },
  {
   "cell_type": "code",
   "execution_count": 15,
   "metadata": {},
   "outputs": [
    {
     "name": "stdout",
     "output_type": "stream",
     "text": [
      "An error was raised:  division by zero\n",
      "No division error!\n",
      "2.0\n",
      "Examples with no division error:\n",
      "2.0\n",
      "No division error!\n",
      "2.0\n"
     ]
    }
   ],
   "source": [
    "# Umweg: Decorators\n",
    "\n",
    "# What are decorators?\n",
    "# A decorator takes in a function (or a class or a method of a class) and adds some functionality and returns the function. Think of it as a wrapper around your function.\n",
    "# This is also called metaprogramming as a part of the program tries to modify another part of the program at compile time.\n",
    "\n",
    "# How can I use decorators?\n",
    "# There are various built-in decorators in Python such as property, staticmethod, classmethod and the module functools has some decorators as well. You can also build your own decorators.\n",
    "\n",
    "# Examples\n",
    "def smart_divide(func):\n",
    "    # function will accept any arguments\n",
    "    # *args is a tuple of positional arguments\n",
    "    # **kwargs is a diction of keyword arguments\n",
    "    def inner(*args, **kwargs):\n",
    "        try:\n",
    "            output = func(*args,**kwargs)\n",
    "            print('No division error!')\n",
    "            return output\n",
    "        # catch ZeroDivisionError\n",
    "        except ZeroDivisionError as e:\n",
    "            print('Whoops! cannot divide.')\n",
    "            return\n",
    "    return inner\n",
    "\n",
    "@smart_divide # decorator symbol is this @ symbol\n",
    "def divide(a,b):\n",
    "    return a/b\n",
    "\n",
    "def dumb_divide(a,b):\n",
    "    return a/b\n",
    "\n",
    "try:\n",
    "    print(dumb_divide(1,0))\n",
    "except ZeroDivisionError as e:\n",
    "    print('An error was raised: ',e)\n",
    "# error is caught in decorator\n",
    "print(divide(2,1))\n",
    "\n",
    "print('Examples with no division error:')\n",
    "# no change when there is no error\n",
    "print(dumb_divide(2,1))\n",
    "print(divide(2,1))\n",
    "\n",
    "\n"
   ]
  },
  {
   "cell_type": "markdown",
   "metadata": {},
   "source": [
    "## 1d) Create 3 dogs with various characteristics, and assign them different tricks"
   ]
  },
  {
   "cell_type": "code",
   "execution_count": null,
   "metadata": {},
   "outputs": [],
   "source": [
    "dog1 = Dog(name='Emma',age=1,gender='F',species='husky')\n",
    "dog1.add_trick('roll over')\n",
    "\n",
    "dog2 = Dog(name='Joe',age=6,gender='M',species='golden retriever')\n",
    "dog2.add_trick('roll over')\n",
    "dog2.add_trick('play dead')\n",
    "\n",
    "dog3 = Dog(name='Jenny',age=13,gender='F',species='golden retriever')\n",
    "dog3.add_trick('play dead')\n",
    "dog3.add_trick('flippy flip')"
   ]
  },
  {
   "cell_type": "markdown",
   "metadata": {},
   "source": [
    "## 1e) Create a method/function `print_summary` for the Dog class that prints all the relevant data and tricks"
   ]
  },
  {
   "cell_type": "code",
   "execution_count": 10,
   "metadata": {},
   "outputs": [],
   "source": [
    "class Dog:\n",
    "\n",
    "    def __init__(self, name):\n",
    "        self.name = name\n",
    "        # your code here\n",
    "        \n",
    "    def add_trick(self, trick): # this is a method attribute\n",
    "        if hasattr(self, 'trick_list'):\n",
    "            self.trick_list = self.trick_list + ', ' + trick\n",
    "        else:\n",
    "            self.trick_list = trick\n",
    "    \n",
    "    def age(self, age):\n",
    "        self.age = age\n",
    "        \n",
    "    def gender(self, gender):\n",
    "        self.gender = gender\n",
    "        \n",
    "    def species(self, species):\n",
    "        self.species = species\n",
    "        \n",
    "    def print_summary(self):\n",
    "        print('--------------------------------------')\n",
    "        print('Name: ',self.name,'\\n')\n",
    "        print('Tricks: ',self.trick_list,'\\n')\n",
    "        print('Age: ',self.age,'\\n')\n",
    "        print('Gender: ',self.gender,'\\n')\n",
    "        print('Species: ',self.species,'\\n')\n",
    "        print('--------------------------------------')\n",
    "        "
   ]
  },
  {
   "cell_type": "code",
   "execution_count": 13,
   "metadata": {},
   "outputs": [
    {
     "name": "stdout",
     "output_type": "stream",
     "text": [
      "--------------------------------------\n",
      "Name:  Emma \n",
      "\n",
      "Tricks:  roll over \n",
      "\n",
      "Age:  1 \n",
      "\n",
      "Gender:  F \n",
      "\n",
      "Species:  husky \n",
      "\n",
      "--------------------------------------\n",
      "--------------------------------------\n",
      "Name:  Joe \n",
      "\n",
      "Tricks:  roll over, play dead \n",
      "\n",
      "Age:  6 \n",
      "\n",
      "Gender:  M \n",
      "\n",
      "Species:  golden retriever \n",
      "\n",
      "--------------------------------------\n",
      "--------------------------------------\n",
      "Name:  Jenny \n",
      "\n",
      "Tricks:  play dead, flippy flip \n",
      "\n",
      "Age:  13 \n",
      "\n",
      "Gender:  F \n",
      "\n",
      "Species:  golden retriever \n",
      "\n",
      "--------------------------------------\n"
     ]
    }
   ],
   "source": [
    "# create 3 dogs again with your new/modified class and \n",
    "#dog1 = Dog(name='Emma',age=1,gender='F',species='husky')\n",
    "dog1 = Dog('Emma')\n",
    "dog1.age = 1\n",
    "dog1.gender = 'F'\n",
    "dog1.species = 'husky'\n",
    "dog1.add_trick('roll over')\n",
    "\n",
    "#dog2 = Dog(name='Joe',age=6,gender='M',species='golden retriever')\n",
    "dog2 = Dog('Joe')\n",
    "dog2.age = 6\n",
    "dog2.gender = 'M'\n",
    "dog2.species = 'golden retriever'\n",
    "dog2.add_trick('roll over')\n",
    "dog2.add_trick('play dead')\n",
    "\n",
    "#dog3 = Dog(name='Jenny',age=13,gender='F',species='golden retriever')\n",
    "dog3 = Dog('Jenny')\n",
    "dog3.age = 13\n",
    "dog3.gender = 'F'\n",
    "dog3.species = 'golden retriever'\n",
    "dog3.add_trick('play dead')\n",
    "dog3.add_trick('flippy flip')\n",
    "\n",
    "dogs = [dog1,dog2,dog3]\n",
    "for d in dogs:\n",
    "    d.print_summary()"
   ]
  },
  {
   "cell_type": "markdown",
   "metadata": {},
   "source": [
    "## 1f) Finally, create a function/method that returns a pandas dataframe of the dog's name, age, gender species and tricks"
   ]
  },
  {
   "cell_type": "markdown",
   "metadata": {},
   "source": [
    "This code should run. What do you notice about having multiple tricks?"
   ]
  },
  {
   "cell_type": "code",
   "execution_count": 15,
   "metadata": {},
   "outputs": [
    {
     "ename": "AttributeError",
     "evalue": "'Dog' object has no attribute 'return_df'",
     "output_type": "error",
     "traceback": [
      "\u001b[0;31m---------------------------------------------------------------------------\u001b[0m",
      "\u001b[0;31mAttributeError\u001b[0m                            Traceback (most recent call last)",
      "\u001b[0;32m<ipython-input-15-78354313211c>\u001b[0m in \u001b[0;36m<module>\u001b[0;34m\u001b[0m\n\u001b[1;32m      7\u001b[0m \u001b[0mjojo\u001b[0m\u001b[0;34m.\u001b[0m\u001b[0madd_trick\u001b[0m\u001b[0;34m(\u001b[0m\u001b[0;34m'flippy flip'\u001b[0m\u001b[0;34m)\u001b[0m\u001b[0;34m\u001b[0m\u001b[0;34m\u001b[0m\u001b[0m\n\u001b[1;32m      8\u001b[0m \u001b[0;34m\u001b[0m\u001b[0m\n\u001b[0;32m----> 9\u001b[0;31m \u001b[0mdf\u001b[0m \u001b[0;34m=\u001b[0m \u001b[0mjojo\u001b[0m\u001b[0;34m.\u001b[0m\u001b[0mreturn_df\u001b[0m\u001b[0;34m(\u001b[0m\u001b[0;34m)\u001b[0m\u001b[0;34m\u001b[0m\u001b[0;34m\u001b[0m\u001b[0m\n\u001b[0m\u001b[1;32m     10\u001b[0m \u001b[0;34m\u001b[0m\u001b[0m\n\u001b[1;32m     11\u001b[0m \u001b[0mdf\u001b[0m\u001b[0;34m.\u001b[0m\u001b[0mhead\u001b[0m\u001b[0;34m(\u001b[0m\u001b[0;34m)\u001b[0m\u001b[0;34m\u001b[0m\u001b[0;34m\u001b[0m\u001b[0m\n",
      "\u001b[0;31mAttributeError\u001b[0m: 'Dog' object has no attribute 'return_df'"
     ]
    }
   ],
   "source": [
    "#jojo = Dog(name='Jojo',age=12,gender='M',species='collie')\n",
    "jojo = Dog('Jojo')\n",
    "jojo.age = 12\n",
    "jojo.gender = 'M'\n",
    "jojo.species = 'collie'\n",
    "jojo.add_trick('roll over')\n",
    "jojo.add_trick('flippy flip')\n",
    "\n",
    "df = jojo.return_df()\n",
    "\n",
    "df.head()"
   ]
  },
  {
   "cell_type": "code",
   "execution_count": null,
   "metadata": {},
   "outputs": [],
   "source": []
  }
 ],
 "metadata": {
  "kernelspec": {
   "display_name": "Python 3",
   "language": "python",
   "name": "python3"
  },
  "language_info": {
   "codemirror_mode": {
    "name": "ipython",
    "version": 3
   },
   "file_extension": ".py",
   "mimetype": "text/x-python",
   "name": "python",
   "nbconvert_exporter": "python",
   "pygments_lexer": "ipython3",
   "version": "3.7.6"
  }
 },
 "nbformat": 4,
 "nbformat_minor": 2
}
