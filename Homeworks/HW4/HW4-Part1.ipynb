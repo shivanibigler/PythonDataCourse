{
 "cells": [
  {
   "cell_type": "markdown",
   "metadata": {},
   "source": [
    "# HW4 Part 1 - Review of Python Classes\n",
    "\n",
    "April 21, 2020\n",
    "\n",
    "The following is meant to be a brief review of classes in Python. If you feel comfortable with building and manipulating classes in Python, feel free to skim this part"
   ]
  },
  {
   "cell_type": "code",
   "execution_count": 1,
   "metadata": {},
   "outputs": [],
   "source": [
    "import numpy as np\n",
    "import matplotlib.pyplot as plt\n",
    "import pandas as pd"
   ]
  },
  {
   "cell_type": "markdown",
   "metadata": {},
   "source": [
    "## 1a) Create a class \"`Dog`\" with an `__init__` function that takes in the variable `name`"
   ]
  },
  {
   "cell_type": "code",
   "execution_count": 2,
   "metadata": {},
   "outputs": [],
   "source": [
    "class Dog:\n",
    "\n",
    "    def __init__(self, name):\n",
    "        self.name = name\n",
    "        # assign 'name' to self here as a data attribute"
   ]
  },
  {
   "cell_type": "code",
   "execution_count": 3,
   "metadata": {},
   "outputs": [],
   "source": [
    "mydog = Dog('Jojo')"
   ]
  },
  {
   "cell_type": "code",
   "execution_count": 4,
   "metadata": {},
   "outputs": [
    {
     "data": {
      "text/plain": [
       "'Jojo'"
      ]
     },
     "execution_count": 4,
     "metadata": {},
     "output_type": "execute_result"
    }
   ],
   "source": [
    "mydog.name"
   ]
  },
  {
   "cell_type": "markdown",
   "metadata": {},
   "source": [
    "# 1b) Add a method to this class `add_trick` that takes in a variable `trick`\n",
    "Keep in mind that a Dog might learn many tricks - you might keep track of the tricks it learns in a list"
   ]
  },
  {
   "cell_type": "code",
   "execution_count": 5,
   "metadata": {},
   "outputs": [],
   "source": [
    "class Dog:\n",
    "\n",
    "    def __init__(self, name):\n",
    "        self.name = name\n",
    "        # your code here\n",
    "        \n",
    "    def add_trick(self, trick): # this is a method attribute\n",
    "        if hasattr(self, 'trick_list'):\n",
    "            self.trick_list = self.trick_list + ', ' + trick\n",
    "        else:\n",
    "            self.trick_list = trick\n"
   ]
  },
  {
   "cell_type": "code",
   "execution_count": 6,
   "metadata": {},
   "outputs": [
    {
     "data": {
      "text/plain": [
       "'roll over, play dead, flippy flip'"
      ]
     },
     "execution_count": 6,
     "metadata": {},
     "output_type": "execute_result"
    }
   ],
   "source": [
    "# test your code\n",
    "mydog = Dog('Jojo')\n",
    "mydog.add_trick('roll over')\n",
    "mydog.add_trick('play dead')\n",
    "mydog.add_trick('flippy flip')\n",
    "\n",
    "# print the tricks here\n",
    "mydog.trick_list # complete here"
   ]
  },
  {
   "cell_type": "markdown",
   "metadata": {},
   "source": [
    "## 1c) Modify the class so that it keeps track of the dog's age, gender and species\n",
    "Would these be better as a data attributes or as a method attributes?"
   ]
  },
  {
   "cell_type": "code",
   "execution_count": null,
   "metadata": {},
   "outputs": [],
   "source": [
    "class Dog:\n",
    "\n",
    "    def __init__(self, name):\n",
    "        self.name = name\n",
    "        # your code here\n",
    "        \n",
    "    def add_trick(self, trick): # this is a method attribute\n",
    "        if hasattr(self, 'trick_list'):\n",
    "            self.trick_list = self.trick_list + ', ' + trick\n",
    "        else:\n",
    "            self.trick_list = trick\n",
    "    \n",
    "    def age(self, age)\n",
    "        self.age = age\n",
    "        \n",
    "    def gender(self, gender)\n",
    "        self.gender = gender\n",
    "        \n",
    "    def species(self, species)\n",
    "        self.species = species\n",
    "        \n"
   ]
  },
  {
   "cell_type": "markdown",
   "metadata": {},
   "source": [
    "## 1d) Create 3 dogs with various characteristics, and assign them different tricks"
   ]
  },
  {
   "cell_type": "code",
   "execution_count": null,
   "metadata": {},
   "outputs": [],
   "source": [
    "dog1 = Dog(name='Emma',age=1,gender='F',species='husky')\n",
    "dog1.add_trick('roll over')\n",
    "\n",
    "dog2 = Dog(name='Joe',age=6,gender='M',species='golden retriever')\n",
    "dog2.add_trick('roll over')\n",
    "dog2.add_trick('play dead')\n",
    "\n",
    "dog3 = Dog(name='Jenny',age=13,gender='F',species='golden retriever')\n",
    "dog3.add_trick('play dead')\n",
    "dog3.add_trick('flippy flip')"
   ]
  },
  {
   "cell_type": "markdown",
   "metadata": {},
   "source": [
    "## 1e) Create a method/function `print_summary` for the Dog class that prints all the relevant data and tricks"
   ]
  },
  {
   "cell_type": "code",
   "execution_count": 10,
   "metadata": {},
   "outputs": [],
   "source": [
    "class Dog:\n",
    "\n",
    "    def __init__(self, name):\n",
    "        self.name = name\n",
    "        # your code here\n",
    "        \n",
    "    def add_trick(self, trick): # this is a method attribute\n",
    "        if hasattr(self, 'trick_list'):\n",
    "            self.trick_list = self.trick_list + ', ' + trick\n",
    "        else:\n",
    "            self.trick_list = trick\n",
    "    \n",
    "    def age(self, age):\n",
    "        self.age = age\n",
    "        \n",
    "    def gender(self, gender):\n",
    "        self.gender = gender\n",
    "        \n",
    "    def species(self, species):\n",
    "        self.species = species\n",
    "        \n",
    "    def print_summary(self):\n",
    "        print('--------------------------------------')\n",
    "        print('Name: ',self.name,'\\n')\n",
    "        print('Tricks: ',self.trick_list,'\\n')\n",
    "        print('Age: ',self.age,'\\n')\n",
    "        print('Gender: ',self.gender,'\\n')\n",
    "        print('Species: ',self.species,'\\n')\n",
    "        print('--------------------------------------')\n",
    "        "
   ]
  },
  {
   "cell_type": "code",
   "execution_count": 13,
   "metadata": {},
   "outputs": [
    {
     "name": "stdout",
     "output_type": "stream",
     "text": [
      "--------------------------------------\n",
      "Name:  Emma \n",
      "\n",
      "Tricks:  roll over \n",
      "\n",
      "Age:  1 \n",
      "\n",
      "Gender:  F \n",
      "\n",
      "Species:  husky \n",
      "\n",
      "--------------------------------------\n",
      "--------------------------------------\n",
      "Name:  Joe \n",
      "\n",
      "Tricks:  roll over, play dead \n",
      "\n",
      "Age:  6 \n",
      "\n",
      "Gender:  M \n",
      "\n",
      "Species:  golden retriever \n",
      "\n",
      "--------------------------------------\n",
      "--------------------------------------\n",
      "Name:  Jenny \n",
      "\n",
      "Tricks:  play dead, flippy flip \n",
      "\n",
      "Age:  13 \n",
      "\n",
      "Gender:  F \n",
      "\n",
      "Species:  golden retriever \n",
      "\n",
      "--------------------------------------\n"
     ]
    }
   ],
   "source": [
    "# create 3 dogs again with your new/modified class and \n",
    "#dog1 = Dog(name='Emma',age=1,gender='F',species='husky')\n",
    "dog1 = Dog('Emma')\n",
    "dog1.age = 1\n",
    "dog1.gender = 'F'\n",
    "dog1.species = 'husky'\n",
    "dog1.add_trick('roll over')\n",
    "\n",
    "#dog2 = Dog(name='Joe',age=6,gender='M',species='golden retriever')\n",
    "dog2 = Dog('Joe')\n",
    "dog2.age = 6\n",
    "dog2.gender = 'M'\n",
    "dog2.species = 'golden retriever'\n",
    "dog2.add_trick('roll over')\n",
    "dog2.add_trick('play dead')\n",
    "\n",
    "#dog3 = Dog(name='Jenny',age=13,gender='F',species='golden retriever')\n",
    "dog3 = Dog('Jenny')\n",
    "dog3.age = 13\n",
    "dog3.gender = 'F'\n",
    "dog3.species = 'golden retriever'\n",
    "dog3.add_trick('play dead')\n",
    "dog3.add_trick('flippy flip')\n",
    "\n",
    "dogs = [dog1,dog2,dog3]\n",
    "for d in dogs:\n",
    "    d.print_summary()"
   ]
  },
  {
   "cell_type": "markdown",
   "metadata": {},
   "source": [
    "## 1f) Finally, create a function/method that returns a pandas dataframe of the dog's name, age, gender species and tricks"
   ]
  },
  {
   "cell_type": "markdown",
   "metadata": {},
   "source": [
    "This code should run. What do you notice about having multiple tricks?"
   ]
  },
  {
   "cell_type": "code",
   "execution_count": 15,
   "metadata": {},
   "outputs": [
    {
     "ename": "AttributeError",
     "evalue": "'Dog' object has no attribute 'return_df'",
     "output_type": "error",
     "traceback": [
      "\u001b[0;31m---------------------------------------------------------------------------\u001b[0m",
      "\u001b[0;31mAttributeError\u001b[0m                            Traceback (most recent call last)",
      "\u001b[0;32m<ipython-input-15-78354313211c>\u001b[0m in \u001b[0;36m<module>\u001b[0;34m\u001b[0m\n\u001b[1;32m      7\u001b[0m \u001b[0mjojo\u001b[0m\u001b[0;34m.\u001b[0m\u001b[0madd_trick\u001b[0m\u001b[0;34m(\u001b[0m\u001b[0;34m'flippy flip'\u001b[0m\u001b[0;34m)\u001b[0m\u001b[0;34m\u001b[0m\u001b[0;34m\u001b[0m\u001b[0m\n\u001b[1;32m      8\u001b[0m \u001b[0;34m\u001b[0m\u001b[0m\n\u001b[0;32m----> 9\u001b[0;31m \u001b[0mdf\u001b[0m \u001b[0;34m=\u001b[0m \u001b[0mjojo\u001b[0m\u001b[0;34m.\u001b[0m\u001b[0mreturn_df\u001b[0m\u001b[0;34m(\u001b[0m\u001b[0;34m)\u001b[0m\u001b[0;34m\u001b[0m\u001b[0;34m\u001b[0m\u001b[0m\n\u001b[0m\u001b[1;32m     10\u001b[0m \u001b[0;34m\u001b[0m\u001b[0m\n\u001b[1;32m     11\u001b[0m \u001b[0mdf\u001b[0m\u001b[0;34m.\u001b[0m\u001b[0mhead\u001b[0m\u001b[0;34m(\u001b[0m\u001b[0;34m)\u001b[0m\u001b[0;34m\u001b[0m\u001b[0;34m\u001b[0m\u001b[0m\n",
      "\u001b[0;31mAttributeError\u001b[0m: 'Dog' object has no attribute 'return_df'"
     ]
    }
   ],
   "source": [
    "#jojo = Dog(name='Jojo',age=12,gender='M',species='collie')\n",
    "jojo = Dog('Jojo')\n",
    "jojo.age = 12\n",
    "jojo.gender = 'M'\n",
    "jojo.species = 'collie'\n",
    "jojo.add_trick('roll over')\n",
    "jojo.add_trick('flippy flip')\n",
    "\n",
    "df = jojo.return_df()\n",
    "\n",
    "df.head()"
   ]
  },
  {
   "cell_type": "code",
   "execution_count": null,
   "metadata": {},
   "outputs": [],
   "source": []
  }
 ],
 "metadata": {
  "kernelspec": {
   "display_name": "Python 3",
   "language": "python",
   "name": "python3"
  },
  "language_info": {
   "codemirror_mode": {
    "name": "ipython",
    "version": 3
   },
   "file_extension": ".py",
   "mimetype": "text/x-python",
   "name": "python",
   "nbconvert_exporter": "python",
   "pygments_lexer": "ipython3",
   "version": "3.7.6"
  }
 },
 "nbformat": 4,
 "nbformat_minor": 2
}
