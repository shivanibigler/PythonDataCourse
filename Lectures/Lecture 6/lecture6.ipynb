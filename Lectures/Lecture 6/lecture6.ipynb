{
 "cells": [
  {
   "cell_type": "markdown",
   "metadata": {},
   "source": [
    "# Lecture 6 \n",
    "\n",
    "Parts of this lecture will be homework, and I will post an updated version of it for the homework 6 after the lecture.\n",
    "\n",
    "Topics that will be covered in the lecture and/or homework:\n",
    "* Types of relations\n",
    "* Blobs and External storage\n",
    "* Computed and Imported Tables\n",
    "* Part tables and simultaneous insert\n",
    "* updating/editing settings\n",
    "* alter a table definition\n",
    "* adapted attributes\n",
    "* renamed and projected inheritance"
   ]
  },
  {
   "cell_type": "code",
   "execution_count": 1,
   "metadata": {},
   "outputs": [
    {
     "name": "stdout",
     "output_type": "stream",
     "text": [
      "Connecting root@127.0.0.1:3306\n"
     ]
    },
    {
     "data": {
      "text/plain": [
       "DataJoint connection (connected) root@127.0.0.1:3306"
      ]
     },
     "execution_count": 1,
     "metadata": {},
     "output_type": "execute_result"
    }
   ],
   "source": [
    "import datajoint as dj\n",
    "import numpy as np\n",
    "import pandas as pd\n",
    "\n",
    "dj.conn()"
   ]
  },
  {
   "cell_type": "code",
   "execution_count": 2,
   "metadata": {},
   "outputs": [],
   "source": [
    "# \"frame\" fetch format is experimental and may give unexpected errors\n",
    "# we will use \"array\" as the standard fetch format.\n",
    "dj.config['fetch_format'] = 'array'"
   ]
  },
  {
   "cell_type": "code",
   "execution_count": 3,
   "metadata": {},
   "outputs": [],
   "source": [
    "schema = dj.schema('lecture6')\n",
    "\n",
    "# reinitialize schema and drop all tables in schema, if it exists\n",
    "schema.drop(True)\n",
    "schema = dj.schema('lecture6') # drop and reinitialize it to remove all data and tables associated with it"
   ]
  },
  {
   "cell_type": "markdown",
   "metadata": {},
   "source": [
    "## One-to-one dependencies\n",
    "\n",
    "![alt-text](https://upload.wikimedia.org/wikipedia/commons/thumb/f/f7/CPT-Databases-OnetoOne.svg/1024px-CPT-Databases-OnetoOne.svg.png)"
   ]
  },
  {
   "cell_type": "code",
   "execution_count": null,
   "metadata": {},
   "outputs": [],
   "source": [
    "# Country\n",
    "# one primary key: country_name\n",
    "\n",
    "# Capital1\n",
    "# inherits the primary keys of Country\n",
    "# dependent attribute: capital_name\n",
    "\n",
    "# Capital2\n",
    "# capital_name is a primary key\n",
    "# inherited the primary key of Country as a dependent attribute\n",
    "# not a one-to-one dependency because one capital name can have multiple countries"
   ]
  },
  {
   "cell_type": "code",
   "execution_count": 4,
   "metadata": {},
   "outputs": [],
   "source": [
    "@schema\n",
    "class Country(dj.Manual):\n",
    "    definition = \"\"\"\n",
    "    country_name : varchar(63)\n",
    "    ---\n",
    "    \"\"\"\n",
    "    \n",
    "@schema\n",
    "class Capital1(dj.Manual): # inherits primary key from Country\n",
    "    definition = \"\"\"\n",
    "    -> Country\n",
    "    ---\n",
    "    capital_name : varchar(63)\n",
    "    \"\"\"\n",
    "    \n",
    "# This is not a one-to-one dependency - why?\n",
    "# This is a one-to-many dependencies\n",
    "@schema\n",
    "class Capital2(dj.Manual):\n",
    "    definition = \"\"\"\n",
    "    capital_name : varchar(63)\n",
    "    ---\n",
    "    -> Country\n",
    "    \"\"\""
   ]
  },
  {
   "cell_type": "code",
   "execution_count": 5,
   "metadata": {},
   "outputs": [],
   "source": [
    "Country.insert1({'country_name':'USA'})\n",
    "Capital1.insert1({'country_name':'USA', 'capital_name':'Washington'})"
   ]
  },
  {
   "cell_type": "code",
   "execution_count": 6,
   "metadata": {},
   "outputs": [
    {
     "data": {
      "text/html": [
       "\n",
       "        \n",
       "        <style type=\"text/css\">\n",
       "            .Relation{\n",
       "                border-collapse:collapse;\n",
       "            }\n",
       "            .Relation th{\n",
       "                background: #A0A0A0; color: #ffffff; padding:4px; border:#f0e0e0 1px solid;\n",
       "                font-weight: normal; font-family: monospace; font-size: 100%;\n",
       "            }\n",
       "            .Relation td{\n",
       "                padding:4px; border:#f0e0e0 1px solid; font-size:100%;\n",
       "            }\n",
       "            .Relation tr:nth-child(odd){\n",
       "                background: #ffffff;\n",
       "            }\n",
       "            .Relation tr:nth-child(even){\n",
       "                background: #f3f1ff;\n",
       "            }\n",
       "            /* Tooltip container */\n",
       "            .djtooltip {\n",
       "            }\n",
       "            /* Tooltip text */\n",
       "            .djtooltip .djtooltiptext {\n",
       "                visibility: hidden;\n",
       "                width: 120px;\n",
       "                background-color: black;\n",
       "                color: #fff;\n",
       "                text-align: center;\n",
       "                padding: 5px 0;\n",
       "                border-radius: 6px;\n",
       "                /* Position the tooltip text - see examples below! */\n",
       "                position: absolute;\n",
       "                z-index: 1;\n",
       "            }\n",
       "            #primary {\n",
       "                font-weight: bold;\n",
       "                color: black;\n",
       "            }\n",
       "\n",
       "            #nonprimary {\n",
       "                font-weight: normal;\n",
       "                color: white;\n",
       "            }\n",
       "\n",
       "            /* Show the tooltip text when you mouse over the tooltip container */\n",
       "            .djtooltip:hover .djtooltiptext {\n",
       "                visibility: visible;\n",
       "            }\n",
       "        </style>\n",
       "        \n",
       "        <b></b>\n",
       "            <div style=\"max-height:1000px;max-width:1500px;overflow:auto;\">\n",
       "            <table border=\"1\" class=\"Relation\">\n",
       "                <thead> <tr style=\"text-align: right;\"> <th> <div class=\"djtooltip\">\n",
       "                                <p id=\"primary\">country_name</p>\n",
       "                                <span class=\"djtooltiptext\"></span>\n",
       "                            </div></th><th><div class=\"djtooltip\">\n",
       "                                <p id=\"nonprimary\">capital_name</p>\n",
       "                                <span class=\"djtooltiptext\"></span>\n",
       "                            </div> </th> </tr> </thead>\n",
       "                <tbody> <tr> <td>USA</td>\n",
       "<td>Washington</td> </tr> </tbody>\n",
       "            </table>\n",
       "            \n",
       "            <p>Total: 1</p></div>\n",
       "            "
      ],
      "text/plain": [
       "*country_name  capital_name  \n",
       "+------------+ +------------+\n",
       "USA            Washington    \n",
       " (Total: 1)"
      ]
     },
     "execution_count": 6,
     "metadata": {},
     "output_type": "execute_result"
    }
   ],
   "source": [
    "Capital1()"
   ]
  },
  {
   "cell_type": "code",
   "execution_count": 7,
   "metadata": {},
   "outputs": [
    {
     "ename": "DuplicateError",
     "evalue": "(\"Duplicate entry 'USA' for key 'PRIMARY'\", 'To ignore duplicate entries in insert, set skip_duplicates=True')",
     "output_type": "error",
     "traceback": [
      "\u001b[0;31m---------------------------------------------------------------------------\u001b[0m",
      "\u001b[0;31mDuplicateError\u001b[0m                            Traceback (most recent call last)",
      "\u001b[0;32m<ipython-input-7-55f6c22d9bbf>\u001b[0m in \u001b[0;36m<module>\u001b[0;34m\u001b[0m\n\u001b[0;32m----> 1\u001b[0;31m \u001b[0mCapital1\u001b[0m\u001b[0;34m.\u001b[0m\u001b[0minsert1\u001b[0m\u001b[0;34m(\u001b[0m\u001b[0;34m{\u001b[0m\u001b[0;34m'country_name'\u001b[0m\u001b[0;34m:\u001b[0m\u001b[0;34m'USA'\u001b[0m\u001b[0;34m,\u001b[0m \u001b[0;34m'capital_name'\u001b[0m\u001b[0;34m:\u001b[0m\u001b[0;34m'New York'\u001b[0m\u001b[0;34m}\u001b[0m\u001b[0;34m)\u001b[0m\u001b[0;34m\u001b[0m\u001b[0;34m\u001b[0m\u001b[0m\n\u001b[0m\u001b[1;32m      2\u001b[0m \u001b[0;31m# country_name:USA (primary key) already exists, so error\u001b[0m\u001b[0;34m\u001b[0m\u001b[0;34m\u001b[0m\u001b[0;34m\u001b[0m\u001b[0m\n",
      "\u001b[0;32m~/opt/anaconda3/lib/python3.7/site-packages/datajoint/table.py\u001b[0m in \u001b[0;36minsert1\u001b[0;34m(self, row, **kwargs)\u001b[0m\n\u001b[1;32m    369\u001b[0m         \u001b[0mFor\u001b[0m \u001b[0mkwargs\u001b[0m\u001b[0;34m,\u001b[0m \u001b[0msee\u001b[0m \u001b[0minsert\u001b[0m\u001b[0;34m(\u001b[0m\u001b[0;34m)\u001b[0m\u001b[0;34m\u001b[0m\u001b[0;34m\u001b[0m\u001b[0m\n\u001b[1;32m    370\u001b[0m         \"\"\"\n\u001b[0;32m--> 371\u001b[0;31m         \u001b[0mself\u001b[0m\u001b[0;34m.\u001b[0m\u001b[0minsert\u001b[0m\u001b[0;34m(\u001b[0m\u001b[0;34m(\u001b[0m\u001b[0mrow\u001b[0m\u001b[0;34m,\u001b[0m\u001b[0;34m)\u001b[0m\u001b[0;34m,\u001b[0m \u001b[0;34m**\u001b[0m\u001b[0mkwargs\u001b[0m\u001b[0;34m)\u001b[0m\u001b[0;34m\u001b[0m\u001b[0;34m\u001b[0m\u001b[0m\n\u001b[0m\u001b[1;32m    372\u001b[0m \u001b[0;34m\u001b[0m\u001b[0m\n\u001b[1;32m    373\u001b[0m     \u001b[0;32mdef\u001b[0m \u001b[0minsert\u001b[0m\u001b[0;34m(\u001b[0m\u001b[0mself\u001b[0m\u001b[0;34m,\u001b[0m \u001b[0mrows\u001b[0m\u001b[0;34m,\u001b[0m \u001b[0mreplace\u001b[0m\u001b[0;34m=\u001b[0m\u001b[0;32mFalse\u001b[0m\u001b[0;34m,\u001b[0m \u001b[0mskip_duplicates\u001b[0m\u001b[0;34m=\u001b[0m\u001b[0;32mFalse\u001b[0m\u001b[0;34m,\u001b[0m \u001b[0mignore_extra_fields\u001b[0m\u001b[0;34m=\u001b[0m\u001b[0;32mFalse\u001b[0m\u001b[0;34m,\u001b[0m \u001b[0mallow_direct_insert\u001b[0m\u001b[0;34m=\u001b[0m\u001b[0;32mNone\u001b[0m\u001b[0;34m)\u001b[0m\u001b[0;34m:\u001b[0m\u001b[0;34m\u001b[0m\u001b[0;34m\u001b[0m\u001b[0m\n",
      "\u001b[0;32m~/opt/anaconda3/lib/python3.7/site-packages/datajoint/table.py\u001b[0m in \u001b[0;36minsert\u001b[0;34m(self, rows, replace, skip_duplicates, ignore_extra_fields, allow_direct_insert)\u001b[0m\n\u001b[1;32m    437\u001b[0m                 \u001b[0;32mraise\u001b[0m \u001b[0merr\u001b[0m\u001b[0;34m.\u001b[0m\u001b[0msuggest\u001b[0m\u001b[0;34m(\u001b[0m\u001b[0;34m'To ignore extra fields in insert, set ignore_extra_fields=True'\u001b[0m\u001b[0;34m)\u001b[0m \u001b[0;32mfrom\u001b[0m \u001b[0;32mNone\u001b[0m\u001b[0;34m\u001b[0m\u001b[0;34m\u001b[0m\u001b[0m\n\u001b[1;32m    438\u001b[0m             \u001b[0;32mexcept\u001b[0m \u001b[0mDuplicateError\u001b[0m \u001b[0;32mas\u001b[0m \u001b[0merr\u001b[0m\u001b[0;34m:\u001b[0m\u001b[0;34m\u001b[0m\u001b[0;34m\u001b[0m\u001b[0m\n\u001b[0;32m--> 439\u001b[0;31m                 \u001b[0;32mraise\u001b[0m \u001b[0merr\u001b[0m\u001b[0;34m.\u001b[0m\u001b[0msuggest\u001b[0m\u001b[0;34m(\u001b[0m\u001b[0;34m'To ignore duplicate entries in insert, set skip_duplicates=True'\u001b[0m\u001b[0;34m)\u001b[0m \u001b[0;32mfrom\u001b[0m \u001b[0;32mNone\u001b[0m\u001b[0;34m\u001b[0m\u001b[0;34m\u001b[0m\u001b[0m\n\u001b[0m\u001b[1;32m    440\u001b[0m \u001b[0;34m\u001b[0m\u001b[0m\n\u001b[1;32m    441\u001b[0m     \u001b[0;32mdef\u001b[0m \u001b[0mdelete_quick\u001b[0m\u001b[0;34m(\u001b[0m\u001b[0mself\u001b[0m\u001b[0;34m,\u001b[0m \u001b[0mget_count\u001b[0m\u001b[0;34m=\u001b[0m\u001b[0;32mFalse\u001b[0m\u001b[0;34m)\u001b[0m\u001b[0;34m:\u001b[0m\u001b[0;34m\u001b[0m\u001b[0;34m\u001b[0m\u001b[0m\n",
      "\u001b[0;31mDuplicateError\u001b[0m: (\"Duplicate entry 'USA' for key 'PRIMARY'\", 'To ignore duplicate entries in insert, set skip_duplicates=True')"
     ]
    }
   ],
   "source": [
    "Capital1.insert1({'country_name':'USA', 'capital_name':'New York'})\n",
    "# country_name:USA (primary key) already exists, so error"
   ]
  },
  {
   "cell_type": "code",
   "execution_count": 8,
   "metadata": {},
   "outputs": [],
   "source": [
    "# can insert country_name:USA twice with multiple capital_name\n",
    "Capital2.insert1({'country_name':'USA', 'capital_name':'Washington'})\n",
    "Capital2.insert1({'country_name':'USA', 'capital_name':'New York'})"
   ]
  },
  {
   "cell_type": "code",
   "execution_count": 9,
   "metadata": {},
   "outputs": [
    {
     "data": {
      "text/html": [
       "\n",
       "        \n",
       "        <style type=\"text/css\">\n",
       "            .Relation{\n",
       "                border-collapse:collapse;\n",
       "            }\n",
       "            .Relation th{\n",
       "                background: #A0A0A0; color: #ffffff; padding:4px; border:#f0e0e0 1px solid;\n",
       "                font-weight: normal; font-family: monospace; font-size: 100%;\n",
       "            }\n",
       "            .Relation td{\n",
       "                padding:4px; border:#f0e0e0 1px solid; font-size:100%;\n",
       "            }\n",
       "            .Relation tr:nth-child(odd){\n",
       "                background: #ffffff;\n",
       "            }\n",
       "            .Relation tr:nth-child(even){\n",
       "                background: #f3f1ff;\n",
       "            }\n",
       "            /* Tooltip container */\n",
       "            .djtooltip {\n",
       "            }\n",
       "            /* Tooltip text */\n",
       "            .djtooltip .djtooltiptext {\n",
       "                visibility: hidden;\n",
       "                width: 120px;\n",
       "                background-color: black;\n",
       "                color: #fff;\n",
       "                text-align: center;\n",
       "                padding: 5px 0;\n",
       "                border-radius: 6px;\n",
       "                /* Position the tooltip text - see examples below! */\n",
       "                position: absolute;\n",
       "                z-index: 1;\n",
       "            }\n",
       "            #primary {\n",
       "                font-weight: bold;\n",
       "                color: black;\n",
       "            }\n",
       "\n",
       "            #nonprimary {\n",
       "                font-weight: normal;\n",
       "                color: white;\n",
       "            }\n",
       "\n",
       "            /* Show the tooltip text when you mouse over the tooltip container */\n",
       "            .djtooltip:hover .djtooltiptext {\n",
       "                visibility: visible;\n",
       "            }\n",
       "        </style>\n",
       "        \n",
       "        <b></b>\n",
       "            <div style=\"max-height:1000px;max-width:1500px;overflow:auto;\">\n",
       "            <table border=\"1\" class=\"Relation\">\n",
       "                <thead> <tr style=\"text-align: right;\"> <th> <div class=\"djtooltip\">\n",
       "                                <p id=\"primary\">capital_name</p>\n",
       "                                <span class=\"djtooltiptext\"></span>\n",
       "                            </div></th><th><div class=\"djtooltip\">\n",
       "                                <p id=\"nonprimary\">country_name</p>\n",
       "                                <span class=\"djtooltiptext\"></span>\n",
       "                            </div> </th> </tr> </thead>\n",
       "                <tbody> <tr> <td>New York</td>\n",
       "<td>USA</td></tr><tr><td>Washington</td>\n",
       "<td>USA</td> </tr> </tbody>\n",
       "            </table>\n",
       "            \n",
       "            <p>Total: 2</p></div>\n",
       "            "
      ],
      "text/plain": [
       "*capital_name  country_name  \n",
       "+------------+ +------------+\n",
       "New York       USA           \n",
       "Washington     USA           \n",
       " (Total: 2)"
      ]
     },
     "execution_count": 9,
     "metadata": {},
     "output_type": "execute_result"
    }
   ],
   "source": [
    "Capital2()"
   ]
  },
  {
   "cell_type": "markdown",
   "metadata": {},
   "source": [
    "## One-to-many dependencies\n",
    "\n",
    "![alt-text](https://upload.wikimedia.org/wikipedia/commons/thumb/d/d7/CPT-Databases-OnetoMany2.svg/1024px-CPT-Databases-OnetoMany2.svg.png)"
   ]
  },
  {
   "cell_type": "code",
   "execution_count": 10,
   "metadata": {},
   "outputs": [],
   "source": [
    "# -> means inherit\n",
    "@schema\n",
    "class Book(dj.Manual):\n",
    "    definition = \"\"\"\n",
    "    book_name : varchar(122)\n",
    "    ---\n",
    "    author : varchar(122)\n",
    "    \"\"\"\n",
    "\n",
    "# inherit the primary keys from Book\n",
    "# chapter_name is also a primary key now\n",
    "# no secondary columns in this case\n",
    "@schema\n",
    "class Chapter1(dj.Manual):\n",
    "    definition = \"\"\"\n",
    "    -> Book\n",
    "    chapter_name : varchar(122)\n",
    "    ---\n",
    "    \"\"\"\n",
    "\n",
    "# What is the difference? Inherit Book as secondary column\n",
    "# they are both \"one to many\" but work differently\n",
    "@schema\n",
    "class Chapter2(dj.Manual):\n",
    "    definition = \"\"\"\n",
    "    chapter_name : varchar(122)\n",
    "    ---\n",
    "    -> Book\n",
    "    \"\"\""
   ]
  },
  {
   "cell_type": "code",
   "execution_count": 11,
   "metadata": {},
   "outputs": [],
   "source": [
    "Book.insert1({'book_name':'Faust', 'author':'Goethe'})\n",
    "Chapter1.insert1({'book_name':'Faust', 'chapter_name':'Part One'})\n",
    "Chapter1.insert1({'book_name':'Faust', 'chapter_name':'Part Two'})\n",
    "Chapter2.insert1({'book_name':'Faust', 'chapter_name':'Part One'})\n",
    "Chapter2.insert1({'book_name':'Faust', 'chapter_name':'Part Two'})"
   ]
  },
  {
   "cell_type": "code",
   "execution_count": 12,
   "metadata": {},
   "outputs": [],
   "source": [
    "Book.insert1({'book_name':'1984', 'author':'Orwell'})\n",
    "Chapter1.insert1({'book_name':'1984', 'chapter_name':'Part One'})\n",
    "Chapter1.insert1({'book_name':'1984', 'chapter_name':'Part Two'})"
   ]
  },
  {
   "cell_type": "code",
   "execution_count": 15,
   "metadata": {},
   "outputs": [
    {
     "ename": "DuplicateError",
     "evalue": "(\"Duplicate entry 'Part One' for key 'PRIMARY'\", 'To ignore duplicate entries in insert, set skip_duplicates=True')",
     "output_type": "error",
     "traceback": [
      "\u001b[0;31m---------------------------------------------------------------------------\u001b[0m",
      "\u001b[0;31mDuplicateError\u001b[0m                            Traceback (most recent call last)",
      "\u001b[0;32m<ipython-input-15-b935140e1534>\u001b[0m in \u001b[0;36m<module>\u001b[0;34m\u001b[0m\n\u001b[1;32m      1\u001b[0m \u001b[0;31m# A duplicate error creeps up again\u001b[0m\u001b[0;34m\u001b[0m\u001b[0;34m\u001b[0m\u001b[0;34m\u001b[0m\u001b[0m\n\u001b[0;32m----> 2\u001b[0;31m \u001b[0mChapter2\u001b[0m\u001b[0;34m.\u001b[0m\u001b[0minsert1\u001b[0m\u001b[0;34m(\u001b[0m\u001b[0;34m{\u001b[0m\u001b[0;34m'book_name'\u001b[0m\u001b[0;34m:\u001b[0m\u001b[0;34m'1984'\u001b[0m\u001b[0;34m,\u001b[0m \u001b[0;34m'chapter_name'\u001b[0m\u001b[0;34m:\u001b[0m\u001b[0;34m'Part One'\u001b[0m\u001b[0;34m}\u001b[0m\u001b[0;34m)\u001b[0m\u001b[0;34m\u001b[0m\u001b[0;34m\u001b[0m\u001b[0m\n\u001b[0m\u001b[1;32m      3\u001b[0m \u001b[0mChapter2\u001b[0m\u001b[0;34m.\u001b[0m\u001b[0minsert1\u001b[0m\u001b[0;34m(\u001b[0m\u001b[0;34m{\u001b[0m\u001b[0;34m'book_name'\u001b[0m\u001b[0;34m:\u001b[0m\u001b[0;34m'1984'\u001b[0m\u001b[0;34m,\u001b[0m \u001b[0;34m'chapter_name'\u001b[0m\u001b[0;34m:\u001b[0m\u001b[0;34m'Part Two'\u001b[0m\u001b[0;34m}\u001b[0m\u001b[0;34m)\u001b[0m\u001b[0;34m\u001b[0m\u001b[0;34m\u001b[0m\u001b[0m\n",
      "\u001b[0;32m~/opt/anaconda3/lib/python3.7/site-packages/datajoint/table.py\u001b[0m in \u001b[0;36minsert1\u001b[0;34m(self, row, **kwargs)\u001b[0m\n\u001b[1;32m    369\u001b[0m         \u001b[0mFor\u001b[0m \u001b[0mkwargs\u001b[0m\u001b[0;34m,\u001b[0m \u001b[0msee\u001b[0m \u001b[0minsert\u001b[0m\u001b[0;34m(\u001b[0m\u001b[0;34m)\u001b[0m\u001b[0;34m\u001b[0m\u001b[0;34m\u001b[0m\u001b[0m\n\u001b[1;32m    370\u001b[0m         \"\"\"\n\u001b[0;32m--> 371\u001b[0;31m         \u001b[0mself\u001b[0m\u001b[0;34m.\u001b[0m\u001b[0minsert\u001b[0m\u001b[0;34m(\u001b[0m\u001b[0;34m(\u001b[0m\u001b[0mrow\u001b[0m\u001b[0;34m,\u001b[0m\u001b[0;34m)\u001b[0m\u001b[0;34m,\u001b[0m \u001b[0;34m**\u001b[0m\u001b[0mkwargs\u001b[0m\u001b[0;34m)\u001b[0m\u001b[0;34m\u001b[0m\u001b[0;34m\u001b[0m\u001b[0m\n\u001b[0m\u001b[1;32m    372\u001b[0m \u001b[0;34m\u001b[0m\u001b[0m\n\u001b[1;32m    373\u001b[0m     \u001b[0;32mdef\u001b[0m \u001b[0minsert\u001b[0m\u001b[0;34m(\u001b[0m\u001b[0mself\u001b[0m\u001b[0;34m,\u001b[0m \u001b[0mrows\u001b[0m\u001b[0;34m,\u001b[0m \u001b[0mreplace\u001b[0m\u001b[0;34m=\u001b[0m\u001b[0;32mFalse\u001b[0m\u001b[0;34m,\u001b[0m \u001b[0mskip_duplicates\u001b[0m\u001b[0;34m=\u001b[0m\u001b[0;32mFalse\u001b[0m\u001b[0;34m,\u001b[0m \u001b[0mignore_extra_fields\u001b[0m\u001b[0;34m=\u001b[0m\u001b[0;32mFalse\u001b[0m\u001b[0;34m,\u001b[0m \u001b[0mallow_direct_insert\u001b[0m\u001b[0;34m=\u001b[0m\u001b[0;32mNone\u001b[0m\u001b[0;34m)\u001b[0m\u001b[0;34m:\u001b[0m\u001b[0;34m\u001b[0m\u001b[0;34m\u001b[0m\u001b[0m\n",
      "\u001b[0;32m~/opt/anaconda3/lib/python3.7/site-packages/datajoint/table.py\u001b[0m in \u001b[0;36minsert\u001b[0;34m(self, rows, replace, skip_duplicates, ignore_extra_fields, allow_direct_insert)\u001b[0m\n\u001b[1;32m    437\u001b[0m                 \u001b[0;32mraise\u001b[0m \u001b[0merr\u001b[0m\u001b[0;34m.\u001b[0m\u001b[0msuggest\u001b[0m\u001b[0;34m(\u001b[0m\u001b[0;34m'To ignore extra fields in insert, set ignore_extra_fields=True'\u001b[0m\u001b[0;34m)\u001b[0m \u001b[0;32mfrom\u001b[0m \u001b[0;32mNone\u001b[0m\u001b[0;34m\u001b[0m\u001b[0;34m\u001b[0m\u001b[0m\n\u001b[1;32m    438\u001b[0m             \u001b[0;32mexcept\u001b[0m \u001b[0mDuplicateError\u001b[0m \u001b[0;32mas\u001b[0m \u001b[0merr\u001b[0m\u001b[0;34m:\u001b[0m\u001b[0;34m\u001b[0m\u001b[0;34m\u001b[0m\u001b[0m\n\u001b[0;32m--> 439\u001b[0;31m                 \u001b[0;32mraise\u001b[0m \u001b[0merr\u001b[0m\u001b[0;34m.\u001b[0m\u001b[0msuggest\u001b[0m\u001b[0;34m(\u001b[0m\u001b[0;34m'To ignore duplicate entries in insert, set skip_duplicates=True'\u001b[0m\u001b[0;34m)\u001b[0m \u001b[0;32mfrom\u001b[0m \u001b[0;32mNone\u001b[0m\u001b[0;34m\u001b[0m\u001b[0;34m\u001b[0m\u001b[0m\n\u001b[0m\u001b[1;32m    440\u001b[0m \u001b[0;34m\u001b[0m\u001b[0m\n\u001b[1;32m    441\u001b[0m     \u001b[0;32mdef\u001b[0m \u001b[0mdelete_quick\u001b[0m\u001b[0;34m(\u001b[0m\u001b[0mself\u001b[0m\u001b[0;34m,\u001b[0m \u001b[0mget_count\u001b[0m\u001b[0;34m=\u001b[0m\u001b[0;32mFalse\u001b[0m\u001b[0;34m)\u001b[0m\u001b[0;34m:\u001b[0m\u001b[0;34m\u001b[0m\u001b[0;34m\u001b[0m\u001b[0m\n",
      "\u001b[0;31mDuplicateError\u001b[0m: (\"Duplicate entry 'Part One' for key 'PRIMARY'\", 'To ignore duplicate entries in insert, set skip_duplicates=True')"
     ]
    }
   ],
   "source": [
    "# A duplicate error creeps up again\n",
    "# 'Part 1' and 'Part 2' already exist for a different Book\n",
    "# not unique (can't be primary here)\n",
    "Chapter2.insert1({'book_name':'1984', 'chapter_name':'Part One'})\n",
    "Chapter2.insert1({'book_name':'1984', 'chapter_name':'Part Two'})"
   ]
  },
  {
   "cell_type": "markdown",
   "metadata": {},
   "source": [
    "## Many-to-many dependencies\n",
    "![alt-text](https://upload.wikimedia.org/wikipedia/commons/thumb/c/c4/CPT-Databases-ManytoMany.svg/1024px-CPT-Databases-ManytoMany.svg.png)"
   ]
  },
  {
   "cell_type": "markdown",
   "metadata": {},
   "source": [
    "### \"Junction\" table\n",
    "\n",
    "![alt-text](https://upload.wikimedia.org/wikipedia/commons/thumb/0/02/Databases-ManyToManyWJunction.jpg/1024px-Databases-ManyToManyWJunction.jpg)"
   ]
  },
  {
   "cell_type": "code",
   "execution_count": 13,
   "metadata": {},
   "outputs": [],
   "source": [
    "# many to many dependencies\n",
    "# why did I call this Book2? Book already exists\n",
    "# Book2 has only one primary key (book_name)\n",
    "@schema\n",
    "class Book2(dj.Manual):\n",
    "    definition = \"\"\"\n",
    "    book_name : varchar(122)\n",
    "    ---\n",
    "    \"\"\"\n",
    "\n",
    "# just one primary key as well (author)\n",
    "@schema\n",
    "class Author(dj.Manual):\n",
    "    definition = \"\"\"\n",
    "    author : varchar(122)\n",
    "    ---\n",
    "    \"\"\"\n",
    "\n",
    "# junction table\n",
    "# inherits primary keys from Author and Book2\n",
    "@schema\n",
    "class AuthorBook(dj.Manual):\n",
    "    definition = \"\"\"\n",
    "    -> Author\n",
    "    -> Book2\n",
    "    ---\n",
    "    \"\"\"\n",
    "    "
   ]
  },
  {
   "cell_type": "code",
   "execution_count": 14,
   "metadata": {},
   "outputs": [],
   "source": [
    "Book2.insert1({'book_name':'Faust'})\n",
    "Book2.insert1({'book_name':'Leiden des jungen Werther'})\n",
    "Book2.insert1({'book_name':'1984'})\n",
    "\n",
    "Author.insert1({'author':'Goethe'})\n",
    "Author.insert1({'author':'Orwell'})\n",
    "\n",
    "AuthorBook.insert1({'book_name':'Faust', 'author':'Goethe'})\n",
    "AuthorBook.insert1({'book_name':'Leiden des jungen Werther', 'author':'Goethe'})\n",
    "AuthorBook.insert1({'book_name':'1984', 'author':'Orwell'})"
   ]
  },
  {
   "cell_type": "markdown",
   "metadata": {},
   "source": [
    "### Part tables\n",
    "\n",
    "Another way to define a junction table is by using datajoint's master-part relations. These are not inherently different from defining normal dependencies, but they can help you organize your code and many datajoint-specific UIs do make a distinction how they work within the application. \n",
    "\n",
    "The master-part relationship ensures that all parts of a complex representation appear together or not at all. \n",
    "\n",
    "As a general rule, it is good to avoid using master-part relationships for `Manual` tables unless you want to build a many-to-many relation.\n",
    "\n",
    "NB: You can assign multiple part tables to one master table.\n",
    "\n",
    "Let's look at an example, to see what is happening here. "
   ]
  },
  {
   "cell_type": "code",
   "execution_count": 15,
   "metadata": {},
   "outputs": [],
   "source": [
    "# Part table and master table\n",
    "# this is not recommended but can use it in specific ways\n",
    "# build specific types of many-to-many relationships\n",
    "\n",
    "# when adding an author, want to also link book\n",
    "# must always inherit Author1 in the part table (primary keys)\n",
    "# can inherit other things too (Book2)\n",
    "@schema\n",
    "class Author1(dj.Manual):\n",
    "    definition = \"\"\"\n",
    "    author : varchar(122)\n",
    "    ---\n",
    "    \"\"\"\n",
    "    \n",
    "    class AuthorBook(dj.Part):\n",
    "        definition = \"\"\"\n",
    "        -> Book2\n",
    "        -> Author1\n",
    "        ---\n",
    "        \"\"\"\n",
    "        \n",
    "#    class AuthorKids(dj.Part): # just an example of another part\n",
    "#        definition = \"\"\"\n",
    "#        -> Author1\n",
    "#        name: varchar(31)\n",
    "#        ---\n",
    "#        \"\"\""
   ]
  },
  {
   "cell_type": "code",
   "execution_count": 16,
   "metadata": {},
   "outputs": [],
   "source": [
    "Author1.insert1({'author':'Goethe'})\n",
    "Author1.insert1({'author':'Orwell'})\n",
    "\n",
    "# insert specifically into a part class (AuthorBook)\n",
    "Author1.AuthorBook.insert1({'book_name':'Faust', 'author':'Goethe'})\n",
    "Author1.AuthorBook.insert1({'book_name':'Leiden des jungen Werther', 'author':'Goethe'})\n",
    "Author1.AuthorBook.insert1({'book_name':'1984', 'author':'Orwell'})"
   ]
  },
  {
   "cell_type": "code",
   "execution_count": 17,
   "metadata": {},
   "outputs": [
    {
     "data": {
      "text/html": [
       "\n",
       "        \n",
       "        <style type=\"text/css\">\n",
       "            .Relation{\n",
       "                border-collapse:collapse;\n",
       "            }\n",
       "            .Relation th{\n",
       "                background: #A0A0A0; color: #ffffff; padding:4px; border:#f0e0e0 1px solid;\n",
       "                font-weight: normal; font-family: monospace; font-size: 100%;\n",
       "            }\n",
       "            .Relation td{\n",
       "                padding:4px; border:#f0e0e0 1px solid; font-size:100%;\n",
       "            }\n",
       "            .Relation tr:nth-child(odd){\n",
       "                background: #ffffff;\n",
       "            }\n",
       "            .Relation tr:nth-child(even){\n",
       "                background: #f3f1ff;\n",
       "            }\n",
       "            /* Tooltip container */\n",
       "            .djtooltip {\n",
       "            }\n",
       "            /* Tooltip text */\n",
       "            .djtooltip .djtooltiptext {\n",
       "                visibility: hidden;\n",
       "                width: 120px;\n",
       "                background-color: black;\n",
       "                color: #fff;\n",
       "                text-align: center;\n",
       "                padding: 5px 0;\n",
       "                border-radius: 6px;\n",
       "                /* Position the tooltip text - see examples below! */\n",
       "                position: absolute;\n",
       "                z-index: 1;\n",
       "            }\n",
       "            #primary {\n",
       "                font-weight: bold;\n",
       "                color: black;\n",
       "            }\n",
       "\n",
       "            #nonprimary {\n",
       "                font-weight: normal;\n",
       "                color: white;\n",
       "            }\n",
       "\n",
       "            /* Show the tooltip text when you mouse over the tooltip container */\n",
       "            .djtooltip:hover .djtooltiptext {\n",
       "                visibility: visible;\n",
       "            }\n",
       "        </style>\n",
       "        \n",
       "        <b></b>\n",
       "            <div style=\"max-height:1000px;max-width:1500px;overflow:auto;\">\n",
       "            <table border=\"1\" class=\"Relation\">\n",
       "                <thead> <tr style=\"text-align: right;\"> <th> <div class=\"djtooltip\">\n",
       "                                <p id=\"primary\">author</p>\n",
       "                                <span class=\"djtooltiptext\"></span>\n",
       "                            </div> </th> </tr> </thead>\n",
       "                <tbody> <tr> <td>Goethe</td></tr><tr><td>Orwell</td> </tr> </tbody>\n",
       "            </table>\n",
       "            \n",
       "            <p>Total: 2</p></div>\n",
       "            "
      ],
      "text/plain": [
       "*author   \n",
       "+--------+\n",
       "Goethe    \n",
       "Orwell    \n",
       " (Total: 2)"
      ]
     },
     "execution_count": 17,
     "metadata": {},
     "output_type": "execute_result"
    }
   ],
   "source": [
    "Author1()"
   ]
  },
  {
   "cell_type": "code",
   "execution_count": 18,
   "metadata": {},
   "outputs": [
    {
     "data": {
      "text/html": [
       "\n",
       "        \n",
       "        <style type=\"text/css\">\n",
       "            .Relation{\n",
       "                border-collapse:collapse;\n",
       "            }\n",
       "            .Relation th{\n",
       "                background: #A0A0A0; color: #ffffff; padding:4px; border:#f0e0e0 1px solid;\n",
       "                font-weight: normal; font-family: monospace; font-size: 100%;\n",
       "            }\n",
       "            .Relation td{\n",
       "                padding:4px; border:#f0e0e0 1px solid; font-size:100%;\n",
       "            }\n",
       "            .Relation tr:nth-child(odd){\n",
       "                background: #ffffff;\n",
       "            }\n",
       "            .Relation tr:nth-child(even){\n",
       "                background: #f3f1ff;\n",
       "            }\n",
       "            /* Tooltip container */\n",
       "            .djtooltip {\n",
       "            }\n",
       "            /* Tooltip text */\n",
       "            .djtooltip .djtooltiptext {\n",
       "                visibility: hidden;\n",
       "                width: 120px;\n",
       "                background-color: black;\n",
       "                color: #fff;\n",
       "                text-align: center;\n",
       "                padding: 5px 0;\n",
       "                border-radius: 6px;\n",
       "                /* Position the tooltip text - see examples below! */\n",
       "                position: absolute;\n",
       "                z-index: 1;\n",
       "            }\n",
       "            #primary {\n",
       "                font-weight: bold;\n",
       "                color: black;\n",
       "            }\n",
       "\n",
       "            #nonprimary {\n",
       "                font-weight: normal;\n",
       "                color: white;\n",
       "            }\n",
       "\n",
       "            /* Show the tooltip text when you mouse over the tooltip container */\n",
       "            .djtooltip:hover .djtooltiptext {\n",
       "                visibility: visible;\n",
       "            }\n",
       "        </style>\n",
       "        \n",
       "        <b></b>\n",
       "            <div style=\"max-height:1000px;max-width:1500px;overflow:auto;\">\n",
       "            <table border=\"1\" class=\"Relation\">\n",
       "                <thead> <tr style=\"text-align: right;\"> <th> <div class=\"djtooltip\">\n",
       "                                <p id=\"primary\">book_name</p>\n",
       "                                <span class=\"djtooltiptext\"></span>\n",
       "                            </div></th><th><div class=\"djtooltip\">\n",
       "                                <p id=\"primary\">author</p>\n",
       "                                <span class=\"djtooltiptext\"></span>\n",
       "                            </div> </th> </tr> </thead>\n",
       "                <tbody> <tr> <td>Faust</td>\n",
       "<td>Goethe</td></tr><tr><td>Leiden des jungen Werther</td>\n",
       "<td>Goethe</td></tr><tr><td>1984</td>\n",
       "<td>Orwell</td> </tr> </tbody>\n",
       "            </table>\n",
       "            \n",
       "            <p>Total: 3</p></div>\n",
       "            "
      ],
      "text/plain": [
       "*book_name     *author   \n",
       "+------------+ +--------+\n",
       "Faust          Goethe    \n",
       "Leiden des jun Goethe    \n",
       "1984           Orwell    \n",
       " (Total: 3)"
      ]
     },
     "execution_count": 18,
     "metadata": {},
     "output_type": "execute_result"
    }
   ],
   "source": [
    "Author1.AuthorBook() # joint table"
   ]
  },
  {
   "cell_type": "markdown",
   "metadata": {},
   "source": [
    "#### <font color='crimson'>Fork-specific feature:</font> `insert1p`\n",
    "In this fork, you can simultaneously insert into the master and part table using the `insert1p` method. This enforces simultaneous insertion, as intended by master-part relations. \n",
    "Let's look at some examples:"
   ]
  },
  {
   "cell_type": "code",
   "execution_count": 19,
   "metadata": {},
   "outputs": [
    {
     "name": "stdout",
     "output_type": "stream",
     "text": [
      "About to delete\n",
      "`lecture6`.`author1__author_book`: 3 items\n",
      "`lecture6`.`author1`: 2 items\n",
      "Proceed? [yes, No]: yes\n",
      "Commited.\n"
     ]
    }
   ],
   "source": [
    "# this deletes all entries we just inserted\n",
    "Author1.delete()"
   ]
  },
  {
   "cell_type": "code",
   "execution_count": 20,
   "metadata": {},
   "outputs": [],
   "source": [
    "# insert into master and part at the same time (insert1p)\n",
    "goethe_books = pd.DataFrame({'book_name': ['Faust', 'Leiden des jungen Werther']})\n",
    "orwell_books = pd.DataFrame({'book_name': ['1984']})"
   ]
  },
  {
   "cell_type": "code",
   "execution_count": 21,
   "metadata": {},
   "outputs": [],
   "source": [
    "Author1.insert1p(\n",
    "    {'author': 'Goethe', 'AuthorBook': goethe_books}\n",
    ")\n",
    "\n",
    "Author1.insert1p(\n",
    "    {'author': 'Orwell', 'AuthorBook': orwell_books}\n",
    ")"
   ]
  },
  {
   "cell_type": "code",
   "execution_count": 22,
   "metadata": {},
   "outputs": [
    {
     "data": {
      "text/html": [
       "\n",
       "        \n",
       "        <style type=\"text/css\">\n",
       "            .Relation{\n",
       "                border-collapse:collapse;\n",
       "            }\n",
       "            .Relation th{\n",
       "                background: #A0A0A0; color: #ffffff; padding:4px; border:#f0e0e0 1px solid;\n",
       "                font-weight: normal; font-family: monospace; font-size: 100%;\n",
       "            }\n",
       "            .Relation td{\n",
       "                padding:4px; border:#f0e0e0 1px solid; font-size:100%;\n",
       "            }\n",
       "            .Relation tr:nth-child(odd){\n",
       "                background: #ffffff;\n",
       "            }\n",
       "            .Relation tr:nth-child(even){\n",
       "                background: #f3f1ff;\n",
       "            }\n",
       "            /* Tooltip container */\n",
       "            .djtooltip {\n",
       "            }\n",
       "            /* Tooltip text */\n",
       "            .djtooltip .djtooltiptext {\n",
       "                visibility: hidden;\n",
       "                width: 120px;\n",
       "                background-color: black;\n",
       "                color: #fff;\n",
       "                text-align: center;\n",
       "                padding: 5px 0;\n",
       "                border-radius: 6px;\n",
       "                /* Position the tooltip text - see examples below! */\n",
       "                position: absolute;\n",
       "                z-index: 1;\n",
       "            }\n",
       "            #primary {\n",
       "                font-weight: bold;\n",
       "                color: black;\n",
       "            }\n",
       "\n",
       "            #nonprimary {\n",
       "                font-weight: normal;\n",
       "                color: white;\n",
       "            }\n",
       "\n",
       "            /* Show the tooltip text when you mouse over the tooltip container */\n",
       "            .djtooltip:hover .djtooltiptext {\n",
       "                visibility: visible;\n",
       "            }\n",
       "        </style>\n",
       "        \n",
       "        <b></b>\n",
       "            <div style=\"max-height:1000px;max-width:1500px;overflow:auto;\">\n",
       "            <table border=\"1\" class=\"Relation\">\n",
       "                <thead> <tr style=\"text-align: right;\"> <th> <div class=\"djtooltip\">\n",
       "                                <p id=\"primary\">book_name</p>\n",
       "                                <span class=\"djtooltiptext\"></span>\n",
       "                            </div></th><th><div class=\"djtooltip\">\n",
       "                                <p id=\"primary\">author</p>\n",
       "                                <span class=\"djtooltiptext\"></span>\n",
       "                            </div> </th> </tr> </thead>\n",
       "                <tbody> <tr> <td>Faust</td>\n",
       "<td>Goethe</td></tr><tr><td>Leiden des jungen Werther</td>\n",
       "<td>Goethe</td></tr><tr><td>1984</td>\n",
       "<td>Orwell</td> </tr> </tbody>\n",
       "            </table>\n",
       "            \n",
       "            <p>Total: 3</p></div>\n",
       "            "
      ],
      "text/plain": [
       "*book_name     *author   \n",
       "+------------+ +--------+\n",
       "Faust          Goethe    \n",
       "Leiden des jun Goethe    \n",
       "1984           Orwell    \n",
       " (Total: 3)"
      ]
     },
     "execution_count": 22,
     "metadata": {},
     "output_type": "execute_result"
    }
   ],
   "source": [
    "Author1.AuthorBook()"
   ]
  },
  {
   "cell_type": "code",
   "execution_count": 23,
   "metadata": {},
   "outputs": [
    {
     "name": "stdout",
     "output_type": "stream",
     "text": [
      "About to delete\n",
      "`lecture6`.`author1__author_book`: 3 items\n",
      "`lecture6`.`author1`: 2 items\n",
      "Proceed? [yes, No]: yes\n",
      "Commited.\n"
     ]
    }
   ],
   "source": [
    "# this deletes all entries we just inserted\n",
    "Author1.delete()"
   ]
  },
  {
   "cell_type": "code",
   "execution_count": 24,
   "metadata": {},
   "outputs": [],
   "source": [
    "all_books = [\n",
    "    {'author': 'Goethe', 'AuthorBook': goethe_books}, \n",
    "    {'author': 'Orwell', 'AuthorBook': orwell_books}\n",
    "]"
   ]
  },
  {
   "cell_type": "code",
   "execution_count": 25,
   "metadata": {},
   "outputs": [],
   "source": [
    "# use with caution (very experimental)\n",
    "Author1().insertp(all_books)"
   ]
  },
  {
   "cell_type": "code",
   "execution_count": 26,
   "metadata": {},
   "outputs": [
    {
     "data": {
      "text/html": [
       "\n",
       "        \n",
       "        <style type=\"text/css\">\n",
       "            .Relation{\n",
       "                border-collapse:collapse;\n",
       "            }\n",
       "            .Relation th{\n",
       "                background: #A0A0A0; color: #ffffff; padding:4px; border:#f0e0e0 1px solid;\n",
       "                font-weight: normal; font-family: monospace; font-size: 100%;\n",
       "            }\n",
       "            .Relation td{\n",
       "                padding:4px; border:#f0e0e0 1px solid; font-size:100%;\n",
       "            }\n",
       "            .Relation tr:nth-child(odd){\n",
       "                background: #ffffff;\n",
       "            }\n",
       "            .Relation tr:nth-child(even){\n",
       "                background: #f3f1ff;\n",
       "            }\n",
       "            /* Tooltip container */\n",
       "            .djtooltip {\n",
       "            }\n",
       "            /* Tooltip text */\n",
       "            .djtooltip .djtooltiptext {\n",
       "                visibility: hidden;\n",
       "                width: 120px;\n",
       "                background-color: black;\n",
       "                color: #fff;\n",
       "                text-align: center;\n",
       "                padding: 5px 0;\n",
       "                border-radius: 6px;\n",
       "                /* Position the tooltip text - see examples below! */\n",
       "                position: absolute;\n",
       "                z-index: 1;\n",
       "            }\n",
       "            #primary {\n",
       "                font-weight: bold;\n",
       "                color: black;\n",
       "            }\n",
       "\n",
       "            #nonprimary {\n",
       "                font-weight: normal;\n",
       "                color: white;\n",
       "            }\n",
       "\n",
       "            /* Show the tooltip text when you mouse over the tooltip container */\n",
       "            .djtooltip:hover .djtooltiptext {\n",
       "                visibility: visible;\n",
       "            }\n",
       "        </style>\n",
       "        \n",
       "        <b></b>\n",
       "            <div style=\"max-height:1000px;max-width:1500px;overflow:auto;\">\n",
       "            <table border=\"1\" class=\"Relation\">\n",
       "                <thead> <tr style=\"text-align: right;\"> <th> <div class=\"djtooltip\">\n",
       "                                <p id=\"primary\">book_name</p>\n",
       "                                <span class=\"djtooltiptext\"></span>\n",
       "                            </div></th><th><div class=\"djtooltip\">\n",
       "                                <p id=\"primary\">author</p>\n",
       "                                <span class=\"djtooltiptext\"></span>\n",
       "                            </div> </th> </tr> </thead>\n",
       "                <tbody> <tr> <td>Faust</td>\n",
       "<td>Goethe</td></tr><tr><td>Leiden des jungen Werther</td>\n",
       "<td>Goethe</td></tr><tr><td>1984</td>\n",
       "<td>Orwell</td> </tr> </tbody>\n",
       "            </table>\n",
       "            \n",
       "            <p>Total: 3</p></div>\n",
       "            "
      ],
      "text/plain": [
       "*book_name     *author   \n",
       "+------------+ +--------+\n",
       "Faust          Goethe    \n",
       "Leiden des jun Goethe    \n",
       "1984           Orwell    \n",
       " (Total: 3)"
      ]
     },
     "execution_count": 26,
     "metadata": {},
     "output_type": "execute_result"
    }
   ],
   "source": [
    "Author1.AuthorBook()"
   ]
  },
  {
   "cell_type": "markdown",
   "metadata": {},
   "source": [
    "<font color='crimson'>Caution</font>: `insert1p` and `insertp` are experimental features that will likely be adjusted in future main releases.\n",
    "\n",
    "NB: A better approach for dealing with many-to-many relations will likely be implemented in the future."
   ]
  },
  {
   "cell_type": "markdown",
   "metadata": {},
   "source": [
    "## Advanced datatypes\n",
    "\n",
    "Sometimes you want a column to not contain simple datatypes, such as string, integers or float, but you actually want the datatype to be a numpy.ndarray, a dictionary, or something else. "
   ]
  },
  {
   "cell_type": "markdown",
   "metadata": {},
   "source": [
    "### Blob datatype\n",
    "\n",
    "The numpy.ndarray datatype is always supported, but in order to use python native datatypes (e.g. dicts and lists) you will need to enable them in your configuration file:"
   ]
  },
  {
   "cell_type": "code",
   "execution_count": 28,
   "metadata": {},
   "outputs": [],
   "source": [
    "dj.config['enable_python_native_blobs'] = True\n",
    "# allows you to insert dictionaries (and others) into the main blob datatype"
   ]
  },
  {
   "cell_type": "markdown",
   "metadata": {},
   "source": [
    "#### <font color='crimson'>Fork-specific feature:</font> Pickling of data\n",
    "If you want to store arbitrary python datatypes (either your custom class or for example pandas Dataframe), you will be able to enable pickling in the fork that we installed. \n",
    "\n",
    "I briefly mentioned in the previous lecture. Pickle is a standard python module that allows you to serialize and de-serialize any Python object. If you are pickling your own custom class, pickling can get a little messy over time unless you now what you are doing. In those cases, it is recommended to save your classes by first converting them into a native python datatype or a more standard type such as numpy.ndarray and pandas dataframes."
   ]
  },
  {
   "cell_type": "code",
   "execution_count": 29,
   "metadata": {},
   "outputs": [],
   "source": [
    "dj.config['enable_python_pickle_blobs'] = True\n",
    "# pickling allows you to serialize or deserialize"
   ]
  },
  {
   "cell_type": "markdown",
   "metadata": {},
   "source": [
    "Let's start using the blob datatype. Importantly, blob datatypes cannot be primary keys. "
   ]
  },
  {
   "cell_type": "code",
   "execution_count": 30,
   "metadata": {},
   "outputs": [],
   "source": [
    "# auto_increment automatically uses the next # (primary key) that's available\n",
    "# the first number will be 1 and not 0\n",
    "# longblob is the biggest version of blob datatype\n",
    "@schema\n",
    "class BlobTable(dj.Manual):\n",
    "    definition = \"\"\"\n",
    "    id : int auto_increment\n",
    "    ---\n",
    "    data : longblob\n",
    "    \"\"\""
   ]
  },
  {
   "cell_type": "code",
   "execution_count": 31,
   "metadata": {},
   "outputs": [],
   "source": [
    "table = BlobTable()\n",
    "table.insert1({'data':np.random.random((5, 6))})\n",
    "# numpy array of size 5,6"
   ]
  },
  {
   "cell_type": "code",
   "execution_count": 33,
   "metadata": {},
   "outputs": [],
   "source": [
    "# native datatype\n",
    "table.insert1({'data':{'test':'this', 'with':'this'}})\n",
    "# datatype that can be pickled\n",
    "table.insert1({'data':pd.DataFrame()}) # empty data frame\n",
    "# cannot do this without fork pickling enabled"
   ]
  },
  {
   "cell_type": "code",
   "execution_count": 34,
   "metadata": {},
   "outputs": [
    {
     "data": {
      "text/html": [
       "\n",
       "        \n",
       "        <style type=\"text/css\">\n",
       "            .Relation{\n",
       "                border-collapse:collapse;\n",
       "            }\n",
       "            .Relation th{\n",
       "                background: #A0A0A0; color: #ffffff; padding:4px; border:#f0e0e0 1px solid;\n",
       "                font-weight: normal; font-family: monospace; font-size: 100%;\n",
       "            }\n",
       "            .Relation td{\n",
       "                padding:4px; border:#f0e0e0 1px solid; font-size:100%;\n",
       "            }\n",
       "            .Relation tr:nth-child(odd){\n",
       "                background: #ffffff;\n",
       "            }\n",
       "            .Relation tr:nth-child(even){\n",
       "                background: #f3f1ff;\n",
       "            }\n",
       "            /* Tooltip container */\n",
       "            .djtooltip {\n",
       "            }\n",
       "            /* Tooltip text */\n",
       "            .djtooltip .djtooltiptext {\n",
       "                visibility: hidden;\n",
       "                width: 120px;\n",
       "                background-color: black;\n",
       "                color: #fff;\n",
       "                text-align: center;\n",
       "                padding: 5px 0;\n",
       "                border-radius: 6px;\n",
       "                /* Position the tooltip text - see examples below! */\n",
       "                position: absolute;\n",
       "                z-index: 1;\n",
       "            }\n",
       "            #primary {\n",
       "                font-weight: bold;\n",
       "                color: black;\n",
       "            }\n",
       "\n",
       "            #nonprimary {\n",
       "                font-weight: normal;\n",
       "                color: white;\n",
       "            }\n",
       "\n",
       "            /* Show the tooltip text when you mouse over the tooltip container */\n",
       "            .djtooltip:hover .djtooltiptext {\n",
       "                visibility: visible;\n",
       "            }\n",
       "        </style>\n",
       "        \n",
       "        <b></b>\n",
       "            <div style=\"max-height:1000px;max-width:1500px;overflow:auto;\">\n",
       "            <table border=\"1\" class=\"Relation\">\n",
       "                <thead> <tr style=\"text-align: right;\"> <th> <div class=\"djtooltip\">\n",
       "                                <p id=\"primary\">id</p>\n",
       "                                <span class=\"djtooltiptext\"></span>\n",
       "                            </div></th><th><div class=\"djtooltip\">\n",
       "                                <p id=\"nonprimary\">data</p>\n",
       "                                <span class=\"djtooltiptext\"></span>\n",
       "                            </div> </th> </tr> </thead>\n",
       "                <tbody> <tr> <td>1</td>\n",
       "<td>=BLOB=</td></tr><tr><td>2</td>\n",
       "<td>=BLOB=</td></tr><tr><td>3</td>\n",
       "<td>=BLOB=</td></tr><tr><td>4</td>\n",
       "<td>=BLOB=</td> </tr> </tbody>\n",
       "            </table>\n",
       "            \n",
       "            <p>Total: 4</p></div>\n",
       "            "
      ],
      "text/plain": [
       "*id    data      \n",
       "+----+ +--------+\n",
       "1      =BLOB=    \n",
       "2      =BLOB=    \n",
       "3      =BLOB=    \n",
       "4      =BLOB=    \n",
       " (Total: 4)"
      ]
     },
     "execution_count": 34,
     "metadata": {},
     "output_type": "execute_result"
    }
   ],
   "source": [
    "table"
   ]
  },
  {
   "cell_type": "code",
   "execution_count": 35,
   "metadata": {},
   "outputs": [
    {
     "data": {
      "text/html": [
       "<div>\n",
       "<style scoped>\n",
       "    .dataframe tbody tr th:only-of-type {\n",
       "        vertical-align: middle;\n",
       "    }\n",
       "\n",
       "    .dataframe tbody tr th {\n",
       "        vertical-align: top;\n",
       "    }\n",
       "\n",
       "    .dataframe thead th {\n",
       "        text-align: right;\n",
       "    }\n",
       "</style>\n",
       "<table border=\"1\" class=\"dataframe\">\n",
       "  <thead>\n",
       "    <tr style=\"text-align: right;\">\n",
       "      <th></th>\n",
       "      <th>id</th>\n",
       "      <th>data</th>\n",
       "    </tr>\n",
       "  </thead>\n",
       "  <tbody>\n",
       "    <tr>\n",
       "      <th>0</th>\n",
       "      <td>1</td>\n",
       "      <td>[[0.8106109827341849, 0.43576139021576243, 0.9...</td>\n",
       "    </tr>\n",
       "    <tr>\n",
       "      <th>1</th>\n",
       "      <td>2</td>\n",
       "      <td>{'test': 'this', 'with': 'this'}</td>\n",
       "    </tr>\n",
       "    <tr>\n",
       "      <th>2</th>\n",
       "      <td>3</td>\n",
       "      <td>{'test': 'this', 'with': 'this'}</td>\n",
       "    </tr>\n",
       "    <tr>\n",
       "      <th>3</th>\n",
       "      <td>4</td>\n",
       "      <td>Empty DataFrame\n",
       "Columns: []\n",
       "Index: []</td>\n",
       "    </tr>\n",
       "  </tbody>\n",
       "</table>\n",
       "</div>"
      ],
      "text/plain": [
       "   id                                               data\n",
       "0   1  [[0.8106109827341849, 0.43576139021576243, 0.9...\n",
       "1   2                   {'test': 'this', 'with': 'this'}\n",
       "2   3                   {'test': 'this', 'with': 'this'}\n",
       "3   4              Empty DataFrame\n",
       "Columns: []\n",
       "Index: []"
      ]
     },
     "execution_count": 35,
     "metadata": {},
     "output_type": "execute_result"
    }
   ],
   "source": [
    "pd.DataFrame(table.fetch())"
   ]
  },
  {
   "cell_type": "markdown",
   "metadata": {},
   "source": [
    "Currently, there is no direct way in the definition to restrict the datatype per column. This is a feature that will be implemented in the future. However, you can use custom/adapted attributes, which we will touch upon later and in the homework. "
   ]
  },
  {
   "cell_type": "markdown",
   "metadata": {},
   "source": [
    "### External storage\n",
    "\n",
    "Here for more detail: https://docs.datajoint.io/python/definition/06.5-External-Data.html\n",
    "\n",
    "Sometimes you don't want to store the data in the actual fields in the MySQL database, but you want to store them externally and keep track of those data via a link in the mysql database. In this case, you can configure an external storage system.\n",
    "\n",
    "In general, it is recommended (for performance reasons) to use an external storage system if data for one field generally exceeds 10MB. \n",
    "\n",
    "Let's configure our external stores, and take a look at an example:"
   ]
  },
  {
   "cell_type": "code",
   "execution_count": 36,
   "metadata": {},
   "outputs": [],
   "source": [
    "# we will have one external store in our current working directory\n",
    "# you can define multiple stores and there are different types (see the link above for more info)\n",
    "import os\n",
    "folder = os.getcwd()\n",
    "dj.config['stores'] = {\n",
    "    'localstore': {\n",
    "        'protocol': 'file', # store is a normal filepath\n",
    "        'location': os.path.join(folder, 'localstore') # location of store\n",
    "    }\n",
    "}"
   ]
  },
  {
   "cell_type": "code",
   "execution_count": 37,
   "metadata": {},
   "outputs": [
    {
     "data": {
      "text/plain": [
       "'/Users/skb/Documents/PythonCourse2020/PythonDataCourse/Lectures/Lecture 6'"
      ]
     },
     "execution_count": 37,
     "metadata": {},
     "output_type": "execute_result"
    }
   ],
   "source": [
    "# this is my current working directory\n",
    "folder"
   ]
  },
  {
   "cell_type": "code",
   "execution_count": 38,
   "metadata": {},
   "outputs": [],
   "source": [
    "@schema\n",
    "class BlobTable2(dj.Manual):\n",
    "    definition = \"\"\"\n",
    "    id : int auto_increment\n",
    "    ---\n",
    "    data : blob@localstore # external storage\n",
    "    \"\"\"\n",
    "#blob@localstore: blob is the datatype and localstore is the external storage system"
   ]
  },
  {
   "cell_type": "code",
   "execution_count": 39,
   "metadata": {},
   "outputs": [],
   "source": [
    "table = BlobTable2()\n",
    "table.insert1({'data':np.random.random((5, 6))})"
   ]
  },
  {
   "cell_type": "code",
   "execution_count": 40,
   "metadata": {},
   "outputs": [],
   "source": [
    "# native datatype\n",
    "table.insert1({'data':{'test':'this', 'with':'this'}})\n",
    "# datatype that can be pickled\n",
    "table.insert1({'data':pd.DataFrame()})"
   ]
  },
  {
   "cell_type": "code",
   "execution_count": 41,
   "metadata": {},
   "outputs": [
    {
     "data": {
      "text/html": [
       "\n",
       "        \n",
       "        <style type=\"text/css\">\n",
       "            .Relation{\n",
       "                border-collapse:collapse;\n",
       "            }\n",
       "            .Relation th{\n",
       "                background: #A0A0A0; color: #ffffff; padding:4px; border:#f0e0e0 1px solid;\n",
       "                font-weight: normal; font-family: monospace; font-size: 100%;\n",
       "            }\n",
       "            .Relation td{\n",
       "                padding:4px; border:#f0e0e0 1px solid; font-size:100%;\n",
       "            }\n",
       "            .Relation tr:nth-child(odd){\n",
       "                background: #ffffff;\n",
       "            }\n",
       "            .Relation tr:nth-child(even){\n",
       "                background: #f3f1ff;\n",
       "            }\n",
       "            /* Tooltip container */\n",
       "            .djtooltip {\n",
       "            }\n",
       "            /* Tooltip text */\n",
       "            .djtooltip .djtooltiptext {\n",
       "                visibility: hidden;\n",
       "                width: 120px;\n",
       "                background-color: black;\n",
       "                color: #fff;\n",
       "                text-align: center;\n",
       "                padding: 5px 0;\n",
       "                border-radius: 6px;\n",
       "                /* Position the tooltip text - see examples below! */\n",
       "                position: absolute;\n",
       "                z-index: 1;\n",
       "            }\n",
       "            #primary {\n",
       "                font-weight: bold;\n",
       "                color: black;\n",
       "            }\n",
       "\n",
       "            #nonprimary {\n",
       "                font-weight: normal;\n",
       "                color: white;\n",
       "            }\n",
       "\n",
       "            /* Show the tooltip text when you mouse over the tooltip container */\n",
       "            .djtooltip:hover .djtooltiptext {\n",
       "                visibility: visible;\n",
       "            }\n",
       "        </style>\n",
       "        \n",
       "        <b></b>\n",
       "            <div style=\"max-height:1000px;max-width:1500px;overflow:auto;\">\n",
       "            <table border=\"1\" class=\"Relation\">\n",
       "                <thead> <tr style=\"text-align: right;\"> <th> <div class=\"djtooltip\">\n",
       "                                <p id=\"primary\">id</p>\n",
       "                                <span class=\"djtooltiptext\"></span>\n",
       "                            </div></th><th><div class=\"djtooltip\">\n",
       "                                <p id=\"nonprimary\">data</p>\n",
       "                                <span class=\"djtooltiptext\">external storage</span>\n",
       "                            </div> </th> </tr> </thead>\n",
       "                <tbody> <tr> <td>2</td>\n",
       "<td>=BLOB=</td></tr><tr><td>3</td>\n",
       "<td>=BLOB=</td></tr><tr><td>1</td>\n",
       "<td>=BLOB=</td> </tr> </tbody>\n",
       "            </table>\n",
       "            \n",
       "            <p>Total: 3</p></div>\n",
       "            "
      ],
      "text/plain": [
       "*id    data      \n",
       "+----+ +--------+\n",
       "2      =BLOB=    \n",
       "3      =BLOB=    \n",
       "1      =BLOB=    \n",
       " (Total: 3)"
      ]
     },
     "execution_count": 41,
     "metadata": {},
     "output_type": "execute_result"
    }
   ],
   "source": [
    "table"
   ]
  },
  {
   "cell_type": "code",
   "execution_count": 42,
   "metadata": {},
   "outputs": [
    {
     "data": {
      "text/html": [
       "<div>\n",
       "<style scoped>\n",
       "    .dataframe tbody tr th:only-of-type {\n",
       "        vertical-align: middle;\n",
       "    }\n",
       "\n",
       "    .dataframe tbody tr th {\n",
       "        vertical-align: top;\n",
       "    }\n",
       "\n",
       "    .dataframe thead th {\n",
       "        text-align: right;\n",
       "    }\n",
       "</style>\n",
       "<table border=\"1\" class=\"dataframe\">\n",
       "  <thead>\n",
       "    <tr style=\"text-align: right;\">\n",
       "      <th></th>\n",
       "      <th>id</th>\n",
       "      <th>data</th>\n",
       "    </tr>\n",
       "  </thead>\n",
       "  <tbody>\n",
       "    <tr>\n",
       "      <th>0</th>\n",
       "      <td>2</td>\n",
       "      <td>{'test': 'this', 'with': 'this'}</td>\n",
       "    </tr>\n",
       "    <tr>\n",
       "      <th>1</th>\n",
       "      <td>3</td>\n",
       "      <td>Empty DataFrame\n",
       "Columns: []\n",
       "Index: []</td>\n",
       "    </tr>\n",
       "    <tr>\n",
       "      <th>2</th>\n",
       "      <td>1</td>\n",
       "      <td>[[0.07592645228471351, 0.6054712301725681, 0.0...</td>\n",
       "    </tr>\n",
       "  </tbody>\n",
       "</table>\n",
       "</div>"
      ],
      "text/plain": [
       "   id                                               data\n",
       "0   2                   {'test': 'this', 'with': 'this'}\n",
       "1   3              Empty DataFrame\n",
       "Columns: []\n",
       "Index: []\n",
       "2   1  [[0.07592645228471351, 0.6054712301725681, 0.0..."
      ]
     },
     "execution_count": 42,
     "metadata": {},
     "output_type": "execute_result"
    }
   ],
   "source": [
    "pd.DataFrame(table.fetch())"
   ]
  },
  {
   "cell_type": "markdown",
   "metadata": {},
   "source": [
    "Let's take a look inside our localstore folder"
   ]
  },
  {
   "cell_type": "markdown",
   "metadata": {},
   "source": [
    "### Attach datatype\n",
    "\n",
    "This works similar to your blob external store, but instead of storing a Python datatype, it will store a linked file in your external storage. This can be useful, when you want to store arbitrary files, such as jpg or zip files.\n",
    "\n",
    "Let's take a look at an example:"
   ]
  },
  {
   "cell_type": "code",
   "execution_count": 43,
   "metadata": {},
   "outputs": [],
   "source": [
    "# store using the attach datatype\n",
    "dj.config['stores'].update({\n",
    "    'attachstore': {\n",
    "        'protocol': 'file', # store is a normal filepath\n",
    "        'location': os.path.join(folder, 'attachstore') # location of store\n",
    "    }\n",
    "})"
   ]
  },
  {
   "cell_type": "code",
   "execution_count": 44,
   "metadata": {},
   "outputs": [],
   "source": [
    "# attach datatype, attach storage system\n",
    "@schema\n",
    "class AttachTable(dj.Manual):\n",
    "    definition = \"\"\"\n",
    "    id : int auto_increment  # what is this?\n",
    "    ---\n",
    "    data : attach@attachstore \n",
    "    \"\"\""
   ]
  },
  {
   "cell_type": "code",
   "execution_count": 45,
   "metadata": {},
   "outputs": [],
   "source": [
    "# want to store a particular file\n",
    "AttachTable.insert1({'data':os.path.join('images', 'some_image.png')})"
   ]
  },
  {
   "cell_type": "code",
   "execution_count": 46,
   "metadata": {},
   "outputs": [
    {
     "data": {
      "text/html": [
       "\n",
       "        \n",
       "        <style type=\"text/css\">\n",
       "            .Relation{\n",
       "                border-collapse:collapse;\n",
       "            }\n",
       "            .Relation th{\n",
       "                background: #A0A0A0; color: #ffffff; padding:4px; border:#f0e0e0 1px solid;\n",
       "                font-weight: normal; font-family: monospace; font-size: 100%;\n",
       "            }\n",
       "            .Relation td{\n",
       "                padding:4px; border:#f0e0e0 1px solid; font-size:100%;\n",
       "            }\n",
       "            .Relation tr:nth-child(odd){\n",
       "                background: #ffffff;\n",
       "            }\n",
       "            .Relation tr:nth-child(even){\n",
       "                background: #f3f1ff;\n",
       "            }\n",
       "            /* Tooltip container */\n",
       "            .djtooltip {\n",
       "            }\n",
       "            /* Tooltip text */\n",
       "            .djtooltip .djtooltiptext {\n",
       "                visibility: hidden;\n",
       "                width: 120px;\n",
       "                background-color: black;\n",
       "                color: #fff;\n",
       "                text-align: center;\n",
       "                padding: 5px 0;\n",
       "                border-radius: 6px;\n",
       "                /* Position the tooltip text - see examples below! */\n",
       "                position: absolute;\n",
       "                z-index: 1;\n",
       "            }\n",
       "            #primary {\n",
       "                font-weight: bold;\n",
       "                color: black;\n",
       "            }\n",
       "\n",
       "            #nonprimary {\n",
       "                font-weight: normal;\n",
       "                color: white;\n",
       "            }\n",
       "\n",
       "            /* Show the tooltip text when you mouse over the tooltip container */\n",
       "            .djtooltip:hover .djtooltiptext {\n",
       "                visibility: visible;\n",
       "            }\n",
       "        </style>\n",
       "        \n",
       "        <b></b>\n",
       "            <div style=\"max-height:1000px;max-width:1500px;overflow:auto;\">\n",
       "            <table border=\"1\" class=\"Relation\">\n",
       "                <thead> <tr style=\"text-align: right;\"> <th> <div class=\"djtooltip\">\n",
       "                                <p id=\"primary\">id</p>\n",
       "                                <span class=\"djtooltiptext\">what is this?</span>\n",
       "                            </div></th><th><div class=\"djtooltip\">\n",
       "                                <p id=\"nonprimary\">data</p>\n",
       "                                <span class=\"djtooltiptext\"></span>\n",
       "                            </div> </th> </tr> </thead>\n",
       "                <tbody> <tr> <td>1</td>\n",
       "<td>=BLOB=</td> </tr> </tbody>\n",
       "            </table>\n",
       "            \n",
       "            <p>Total: 1</p></div>\n",
       "            "
      ],
      "text/plain": [
       "*id    data      \n",
       "+----+ +--------+\n",
       "1      =BLOB=    \n",
       " (Total: 1)"
      ]
     },
     "execution_count": 46,
     "metadata": {},
     "output_type": "execute_result"
    }
   ],
   "source": [
    "AttachTable()"
   ]
  },
  {
   "cell_type": "code",
   "execution_count": 47,
   "metadata": {},
   "outputs": [
    {
     "data": {
      "text/plain": [
       "array([(1, 'some_image.png')], dtype=[('id', '<i8'), ('data', 'O')])"
      ]
     },
     "execution_count": 47,
     "metadata": {},
     "output_type": "execute_result"
    }
   ],
   "source": [
    "AttachTable.fetch() \n",
    "# copy over into local directory\n",
    "# this will fetch the data and copy the file saved in attachstore into your local directory"
   ]
  },
  {
   "cell_type": "code",
   "execution_count": 54,
   "metadata": {},
   "outputs": [
    {
     "data": {
      "text/plain": [
       "array([(1, 'downloaded_attachments/some_image.png')],\n",
       "      dtype=[('id', '<i8'), ('data', 'O')])"
      ]
     },
     "execution_count": 54,
     "metadata": {},
     "output_type": "execute_result"
    }
   ],
   "source": [
    "# you can also specify the download path for attachments\n",
    "AttachTable.fetch(download_path='downloaded_attachments') "
   ]
  },
  {
   "cell_type": "markdown",
   "metadata": {},
   "source": [
    "#### <font color='crimson'>Fork-specific feature:</font> Default download path\n",
    "\n",
    "You can set the default download path in the config:"
   ]
  },
  {
   "cell_type": "code",
   "execution_count": 55,
   "metadata": {},
   "outputs": [],
   "source": [
    "dj.config['tmp_folder'] = 'downloaded_attachments2'"
   ]
  },
  {
   "cell_type": "code",
   "execution_count": 56,
   "metadata": {},
   "outputs": [
    {
     "data": {
      "text/plain": [
       "array([(1, 'downloaded_attachments2/some_image.png')],\n",
       "      dtype=[('id', '<i8'), ('data', 'O')])"
      ]
     },
     "execution_count": 56,
     "metadata": {},
     "output_type": "execute_result"
    }
   ],
   "source": [
    "AttachTable.fetch() "
   ]
  },
  {
   "cell_type": "markdown",
   "metadata": {},
   "source": [
    "#### Question: Why would the attachement be downloaded and not simply point to the file in the datajoint-configured store?"
   ]
  },
  {
   "cell_type": "markdown",
   "metadata": {},
   "source": [
    "### Filepath datatype (preview/experimental)\n",
    "\n",
    "This datatype works similar to the attach datatype, except that you it links to files already managed outside of datajoint.\n",
    "\n",
    "Going through filepath datatypes will be part of the homework."
   ]
  },
  {
   "cell_type": "markdown",
   "metadata": {},
   "source": [
    "### Custom attributes - adapted attributes (preview/experimental)\n",
    "\n",
    "This is a neat feature that allows you to define your own attributes. \n",
    "\n",
    "`AttributeAdapter` is a new experimental feature since version 0.12 that allows storing more complex objects. Since it's experimental, it's not yet included in the main documentation. To enable it, please set the environment variable DJ_SUPPORT_ADAPTED_TYPES to \"TRUE\":"
   ]
  },
  {
   "cell_type": "code",
   "execution_count": 57,
   "metadata": {},
   "outputs": [],
   "source": [
    "# enable the use of adapted types for this session. \n",
    "# Adapted types are disabled by default since the feature is considered experimental.\n",
    "import os\n",
    "os.environ['DJ_SUPPORT_ADAPTED_TYPES'] = \"TRUE\"  "
   ]
  },
  {
   "cell_type": "markdown",
   "metadata": {},
   "source": [
    "We will go through one quick example of how to use `AttributeAdapter`. Let's say we want to save a short list of tags into the database. We could save it is a blob, but that doesn't restrict it to a list type plus it cannot be viewed in the database view (it will just say blob before fetching). We could implement a tag list by adapting the varchar string type:"
   ]
  },
  {
   "cell_type": "code",
   "execution_count": 58,
   "metadata": {},
   "outputs": [],
   "source": [
    "import json\n",
    "\n",
    "# subclass AttributeAdapter\n",
    "class ListString(dj.AttributeAdapter):\n",
    "    \n",
    "    # this attribute is required (1)\n",
    "    attribute_type = 'varchar(4000)'\n",
    "\n",
    "    # this method is required (2)\n",
    "    def put(self, obj):\n",
    "        # if None return None (to allow nullable)\n",
    "        if obj is None:\n",
    "            return\n",
    "        # check if obj is a list or tuple\n",
    "        assert isinstance(obj, (list, tuple)), \\\n",
    "            f'object must be list or tuple for liststring type: {type(obj)}'\n",
    "        # use json.dumps to dump the list as a string for insertion\n",
    "        return json.dumps(obj)\n",
    "\n",
    "    # this method is required (3)\n",
    "    def get(self, value):\n",
    "        # load the string and convert it to a list using json.loads\n",
    "        return json.loads(value) # return as a list"
   ]
  },
  {
   "cell_type": "code",
   "execution_count": 59,
   "metadata": {},
   "outputs": [],
   "source": [
    "liststring = ListString()"
   ]
  },
  {
   "cell_type": "code",
   "execution_count": 60,
   "metadata": {},
   "outputs": [],
   "source": [
    "@schema\n",
    "class TagTable(dj.Manual):\n",
    "    definition = \"\"\"\n",
    "    id : int auto_increment  # what is this?\n",
    "    ---\n",
    "    tags : <liststring>\n",
    "    \"\"\""
   ]
  },
  {
   "cell_type": "code",
   "execution_count": 61,
   "metadata": {},
   "outputs": [],
   "source": [
    "TagTable.insert1({'tags':['asdf', 'adf', 'fsjkf']})\n",
    "# it is a list, not a string even though the inserted data is a string"
   ]
  },
  {
   "cell_type": "code",
   "execution_count": 62,
   "metadata": {},
   "outputs": [
    {
     "data": {
      "text/html": [
       "\n",
       "        \n",
       "        <style type=\"text/css\">\n",
       "            .Relation{\n",
       "                border-collapse:collapse;\n",
       "            }\n",
       "            .Relation th{\n",
       "                background: #A0A0A0; color: #ffffff; padding:4px; border:#f0e0e0 1px solid;\n",
       "                font-weight: normal; font-family: monospace; font-size: 100%;\n",
       "            }\n",
       "            .Relation td{\n",
       "                padding:4px; border:#f0e0e0 1px solid; font-size:100%;\n",
       "            }\n",
       "            .Relation tr:nth-child(odd){\n",
       "                background: #ffffff;\n",
       "            }\n",
       "            .Relation tr:nth-child(even){\n",
       "                background: #f3f1ff;\n",
       "            }\n",
       "            /* Tooltip container */\n",
       "            .djtooltip {\n",
       "            }\n",
       "            /* Tooltip text */\n",
       "            .djtooltip .djtooltiptext {\n",
       "                visibility: hidden;\n",
       "                width: 120px;\n",
       "                background-color: black;\n",
       "                color: #fff;\n",
       "                text-align: center;\n",
       "                padding: 5px 0;\n",
       "                border-radius: 6px;\n",
       "                /* Position the tooltip text - see examples below! */\n",
       "                position: absolute;\n",
       "                z-index: 1;\n",
       "            }\n",
       "            #primary {\n",
       "                font-weight: bold;\n",
       "                color: black;\n",
       "            }\n",
       "\n",
       "            #nonprimary {\n",
       "                font-weight: normal;\n",
       "                color: white;\n",
       "            }\n",
       "\n",
       "            /* Show the tooltip text when you mouse over the tooltip container */\n",
       "            .djtooltip:hover .djtooltiptext {\n",
       "                visibility: visible;\n",
       "            }\n",
       "        </style>\n",
       "        \n",
       "        <b></b>\n",
       "            <div style=\"max-height:1000px;max-width:1500px;overflow:auto;\">\n",
       "            <table border=\"1\" class=\"Relation\">\n",
       "                <thead> <tr style=\"text-align: right;\"> <th> <div class=\"djtooltip\">\n",
       "                                <p id=\"primary\">id</p>\n",
       "                                <span class=\"djtooltiptext\">what is this?</span>\n",
       "                            </div></th><th><div class=\"djtooltip\">\n",
       "                                <p id=\"nonprimary\">tags</p>\n",
       "                                <span class=\"djtooltiptext\"></span>\n",
       "                            </div> </th> </tr> </thead>\n",
       "                <tbody> <tr> <td>1</td>\n",
       "<td>['asdf', 'adf', 'fsjkf']</td> </tr> </tbody>\n",
       "            </table>\n",
       "            \n",
       "            <p>Total: 1</p></div>\n",
       "            "
      ],
      "text/plain": [
       "*id    tags          \n",
       "+----+ +------------+\n",
       "1      ['asdf', 'adf'\n",
       " (Total: 1)"
      ]
     },
     "execution_count": 62,
     "metadata": {},
     "output_type": "execute_result"
    }
   ],
   "source": [
    "TagTable()"
   ]
  },
  {
   "cell_type": "code",
   "execution_count": 63,
   "metadata": {},
   "outputs": [
    {
     "data": {
      "text/html": [
       "<div>\n",
       "<style scoped>\n",
       "    .dataframe tbody tr th:only-of-type {\n",
       "        vertical-align: middle;\n",
       "    }\n",
       "\n",
       "    .dataframe tbody tr th {\n",
       "        vertical-align: top;\n",
       "    }\n",
       "\n",
       "    .dataframe thead th {\n",
       "        text-align: right;\n",
       "    }\n",
       "</style>\n",
       "<table border=\"1\" class=\"dataframe\">\n",
       "  <thead>\n",
       "    <tr style=\"text-align: right;\">\n",
       "      <th></th>\n",
       "      <th>id</th>\n",
       "      <th>tags</th>\n",
       "    </tr>\n",
       "  </thead>\n",
       "  <tbody>\n",
       "    <tr>\n",
       "      <th>0</th>\n",
       "      <td>1</td>\n",
       "      <td>[asdf, adf, fsjkf]</td>\n",
       "    </tr>\n",
       "  </tbody>\n",
       "</table>\n",
       "</div>"
      ],
      "text/plain": [
       "   id                tags\n",
       "0   1  [asdf, adf, fsjkf]"
      ]
     },
     "execution_count": 63,
     "metadata": {},
     "output_type": "execute_result"
    }
   ],
   "source": [
    "pd.DataFrame(TagTable.fetch())"
   ]
  },
  {
   "cell_type": "markdown",
   "metadata": {},
   "source": [
    "You could also use `AttributeAdapter` to do type checking and simply restrict the blob datatype to lists. \n",
    "\n",
    "#### NB\n",
    "\n",
    "Do not use adapted attributes as primary keys, since they do not work once inherited in a \"child\" table. \n",
    "\n",
    "Your attribute must be in the context of the table that uses it (i.e. either it is defined in the same file or you import the instance into file that has the table). \n",
    "\n",
    "#### <font color='crimson'>Fork-specific feature:</font> Backup context for adapted attributes\n",
    "\n",
    "Another EXPERIMENTAL option is to set all your adapted attributes in your config. You cannot save this to your datajoint config file - make sure to pop it! This feature will be handled more effectively in future versions. "
   ]
  },
  {
   "cell_type": "code",
   "execution_count": 65,
   "metadata": {},
   "outputs": [],
   "source": [
    "dj.config['backup_context'] = {'liststring': ListString()}"
   ]
  },
  {
   "cell_type": "code",
   "execution_count": 66,
   "metadata": {},
   "outputs": [],
   "source": [
    "# delete liststring instance from context\n",
    "del(liststring)"
   ]
  },
  {
   "cell_type": "code",
   "execution_count": 67,
   "metadata": {},
   "outputs": [],
   "source": [
    "# this will use the backup_context\n",
    "TagTable.insert1({'tags':['asf', 'adf', 'fsjkf']})"
   ]
  },
  {
   "cell_type": "code",
   "execution_count": 68,
   "metadata": {},
   "outputs": [
    {
     "data": {
      "text/plain": [
       "array([(1, list(['asdf', 'adf', 'fsjkf'])),\n",
       "       (2, list(['asf', 'adf', 'fsjkf']))],\n",
       "      dtype=[('id', '<i8'), ('tags', 'O')])"
      ]
     },
     "execution_count": 68,
     "metadata": {},
     "output_type": "execute_result"
    }
   ],
   "source": [
    "TagTable.fetch()"
   ]
  },
  {
   "cell_type": "markdown",
   "metadata": {},
   "source": [
    "## Imported and Computed tables\n",
    "Read this for more info: https://docs.datajoint.io/python/computation/Computation.html\n",
    "\n",
    "In datajoint, `Imported` and `Computed` tables work exactly the same. The main purpose of these types of tables is for you to autopopulate them using custom-defined functions. You don't\n",
    "\n",
    "They each require you to define a `make` method that tells the table how it should `populate` the table. \n",
    "\n",
    "Before we start let's import our `database_pipeline.py` file and take a look inside."
   ]
  },
  {
   "cell_type": "code",
   "execution_count": 69,
   "metadata": {},
   "outputs": [],
   "source": [
    "import database_pipeline as db"
   ]
  },
  {
   "cell_type": "markdown",
   "metadata": {},
   "source": [
    "### `make` method\n",
    "\n",
    "For auto-populated tables, data should never be entered using `insert` directly. Instead these tables must define the callback method `make(self, key)`. The insert method then can only be called on self inside this callback method.\n",
    "\n",
    "Let's take a look inside our `database_pipline.py` file:\n",
    "\n",
    "```python\n",
    "@schema\n",
    "class ImportedRecording(dj.Imported):\n",
    "    definition = \"\"\"\n",
    "    -> RecordingSession\n",
    "    ---\n",
    "    data : blob@localstore\n",
    "    \"\"\"\n",
    "    \n",
    "    def make(self, key):\n",
    "        filename = (RecordingSession & key).fetch1()['filename']\n",
    "        data = pd.read_csv(os.path.join('data', filename))\n",
    "        \n",
    "        # key is a dictionary\n",
    "        key.update({'data':data})\n",
    "        \n",
    "        self.insert1(key)\n",
    "```"
   ]
  },
  {
   "cell_type": "markdown",
   "metadata": {},
   "source": [
    "### `populate` method\n",
    "\n",
    "The inherited `populate` method of `Imported` and `Computed` automatically calls `make` for every key for which the auto-populated table is missing data.\n",
    "\n",
    "Let's populate our `Imported` and `Computed` table from our pipeline:"
   ]
  },
  {
   "cell_type": "code",
   "execution_count": 70,
   "metadata": {},
   "outputs": [
    {
     "name": "stdout",
     "output_type": "stream",
     "text": [
      "   recording_id filename experimenter recording_quality\n",
      "0             1        a           me              good\n",
      "1             2        b           me              good\n",
      "2             3        c           me              good\n",
      "3             4        d           me              good\n",
      "4             5        e           me              good\n",
      "5             6        f           me              good\n",
      "6             7        g           me              good\n",
      "7             8        h           me              good\n",
      "8             9        i           me              good\n",
      "9            10        j           me              good\n",
      "*recording_id  filename     experimenter   recording_qual comments    \n",
      "+------------+ +----------+ +------------+ +------------+ +----------+\n",
      "1              a            me             good           None        \n",
      "2              b            me             good           None        \n",
      "3              c            me             good           None        \n",
      "4              d            me             good           None        \n",
      "5              e            me             good           None        \n",
      "6              f            me             good           None        \n",
      "7              g            me             good           None        \n",
      "8              h            me             good           None        \n",
      "9              i            me             good           None        \n",
      "10             j            me             good           None        \n",
      " (Total: 10)\n",
      "\n"
     ]
    }
   ],
   "source": [
    "# first insert data into the manual table\n",
    "insert_data = pd.read_csv('insert_data.csv')\n",
    "print(insert_data)\n",
    "db.RecordingSession.insert(insert_data.to_dict('records'))\n",
    "print(db.RecordingSession())"
   ]
  },
  {
   "cell_type": "code",
   "execution_count": 71,
   "metadata": {},
   "outputs": [
    {
     "name": "stdout",
     "output_type": "stream",
     "text": [
      "{'recording_id': 1}\n",
      "{'recording_id': 2}\n",
      "{'recording_id': 3}\n",
      "{'recording_id': 4}\n",
      "{'recording_id': 5}\n",
      "{'recording_id': 6}\n",
      "{'recording_id': 7}\n",
      "{'recording_id': 8}\n",
      "{'recording_id': 9}\n",
      "{'recording_id': 10}\n"
     ]
    }
   ],
   "source": [
    "# let's populate the imported table\n",
    "db.ImportedRecording.populate()"
   ]
  },
  {
   "cell_type": "code",
   "execution_count": 60,
   "metadata": {},
   "outputs": [
    {
     "data": {
      "text/html": [
       "\n",
       "        \n",
       "        <style type=\"text/css\">\n",
       "            .Relation{\n",
       "                border-collapse:collapse;\n",
       "            }\n",
       "            .Relation th{\n",
       "                background: #A0A0A0; color: #ffffff; padding:4px; border:#f0e0e0 1px solid;\n",
       "                font-weight: normal; font-family: monospace; font-size: 100%;\n",
       "            }\n",
       "            .Relation td{\n",
       "                padding:4px; border:#f0e0e0 1px solid; font-size:100%;\n",
       "            }\n",
       "            .Relation tr:nth-child(odd){\n",
       "                background: #ffffff;\n",
       "            }\n",
       "            .Relation tr:nth-child(even){\n",
       "                background: #f3f1ff;\n",
       "            }\n",
       "            /* Tooltip container */\n",
       "            .djtooltip {\n",
       "            }\n",
       "            /* Tooltip text */\n",
       "            .djtooltip .djtooltiptext {\n",
       "                visibility: hidden;\n",
       "                width: 120px;\n",
       "                background-color: black;\n",
       "                color: #fff;\n",
       "                text-align: center;\n",
       "                padding: 5px 0;\n",
       "                border-radius: 6px;\n",
       "                /* Position the tooltip text - see examples below! */\n",
       "                position: absolute;\n",
       "                z-index: 1;\n",
       "            }\n",
       "            #primary {\n",
       "                font-weight: bold;\n",
       "                color: black;\n",
       "            }\n",
       "\n",
       "            #nonprimary {\n",
       "                font-weight: normal;\n",
       "                color: white;\n",
       "            }\n",
       "\n",
       "            /* Show the tooltip text when you mouse over the tooltip container */\n",
       "            .djtooltip:hover .djtooltiptext {\n",
       "                visibility: visible;\n",
       "            }\n",
       "        </style>\n",
       "        \n",
       "        <b></b>\n",
       "            <div style=\"max-height:1000px;max-width:1500px;overflow:auto;\">\n",
       "            <table border=\"1\" class=\"Relation\">\n",
       "                <thead> <tr style=\"text-align: right;\"> <th> <div class=\"djtooltip\">\n",
       "                                <p id=\"primary\">recording_id</p>\n",
       "                                <span class=\"djtooltiptext\"></span>\n",
       "                            </div></th><th><div class=\"djtooltip\">\n",
       "                                <p id=\"nonprimary\">data</p>\n",
       "                                <span class=\"djtooltiptext\"></span>\n",
       "                            </div> </th> </tr> </thead>\n",
       "                <tbody> <tr> <td>4</td>\n",
       "<td>=BLOB=</td></tr><tr><td>6</td>\n",
       "<td>=BLOB=</td></tr><tr><td>8</td>\n",
       "<td>=BLOB=</td></tr><tr><td>7</td>\n",
       "<td>=BLOB=</td></tr><tr><td>10</td>\n",
       "<td>=BLOB=</td></tr><tr><td>3</td>\n",
       "<td>=BLOB=</td></tr><tr><td>5</td>\n",
       "<td>=BLOB=</td></tr><tr><td>2</td>\n",
       "<td>=BLOB=</td></tr><tr><td>1</td>\n",
       "<td>=BLOB=</td></tr><tr><td>9</td>\n",
       "<td>=BLOB=</td> </tr> </tbody>\n",
       "            </table>\n",
       "            \n",
       "            <p>Total: 10</p></div>\n",
       "            "
      ],
      "text/plain": [
       "*recording_id  data      \n",
       "+------------+ +--------+\n",
       "4              =BLOB=    \n",
       "6              =BLOB=    \n",
       "8              =BLOB=    \n",
       "7              =BLOB=    \n",
       "10             =BLOB=    \n",
       "3              =BLOB=    \n",
       "5              =BLOB=    \n",
       "2              =BLOB=    \n",
       "1              =BLOB=    \n",
       "9              =BLOB=    \n",
       " (Total: 10)"
      ]
     },
     "execution_count": 60,
     "metadata": {},
     "output_type": "execute_result"
    }
   ],
   "source": [
    "db.ImportedRecording()"
   ]
  },
  {
   "cell_type": "markdown",
   "metadata": {},
   "source": [
    "What are some populate options?"
   ]
  },
  {
   "cell_type": "code",
   "execution_count": 72,
   "metadata": {},
   "outputs": [],
   "source": [
    "table = db.ImportedRecording()\n",
    "table.populate?\n",
    "# pop-up window"
   ]
  },
  {
   "cell_type": "code",
   "execution_count": 73,
   "metadata": {},
   "outputs": [
    {
     "name": "stdout",
     "output_type": "stream",
     "text": [
      "{'recording_id': 1}\n",
      "{'recording_id': 2}\n",
      "{'recording_id': 3}\n"
     ]
    }
   ],
   "source": [
    "db.AnalyzedRecording.populate('recording_id < 4')"
   ]
  },
  {
   "cell_type": "code",
   "execution_count": 74,
   "metadata": {},
   "outputs": [
    {
     "data": {
      "text/html": [
       "\n",
       "        \n",
       "        <style type=\"text/css\">\n",
       "            .Relation{\n",
       "                border-collapse:collapse;\n",
       "            }\n",
       "            .Relation th{\n",
       "                background: #A0A0A0; color: #ffffff; padding:4px; border:#f0e0e0 1px solid;\n",
       "                font-weight: normal; font-family: monospace; font-size: 100%;\n",
       "            }\n",
       "            .Relation td{\n",
       "                padding:4px; border:#f0e0e0 1px solid; font-size:100%;\n",
       "            }\n",
       "            .Relation tr:nth-child(odd){\n",
       "                background: #ffffff;\n",
       "            }\n",
       "            .Relation tr:nth-child(even){\n",
       "                background: #f3f1ff;\n",
       "            }\n",
       "            /* Tooltip container */\n",
       "            .djtooltip {\n",
       "            }\n",
       "            /* Tooltip text */\n",
       "            .djtooltip .djtooltiptext {\n",
       "                visibility: hidden;\n",
       "                width: 120px;\n",
       "                background-color: black;\n",
       "                color: #fff;\n",
       "                text-align: center;\n",
       "                padding: 5px 0;\n",
       "                border-radius: 6px;\n",
       "                /* Position the tooltip text - see examples below! */\n",
       "                position: absolute;\n",
       "                z-index: 1;\n",
       "            }\n",
       "            #primary {\n",
       "                font-weight: bold;\n",
       "                color: black;\n",
       "            }\n",
       "\n",
       "            #nonprimary {\n",
       "                font-weight: normal;\n",
       "                color: white;\n",
       "            }\n",
       "\n",
       "            /* Show the tooltip text when you mouse over the tooltip container */\n",
       "            .djtooltip:hover .djtooltiptext {\n",
       "                visibility: visible;\n",
       "            }\n",
       "        </style>\n",
       "        \n",
       "        <b></b>\n",
       "            <div style=\"max-height:1000px;max-width:1500px;overflow:auto;\">\n",
       "            <table border=\"1\" class=\"Relation\">\n",
       "                <thead> <tr style=\"text-align: right;\"> <th> <div class=\"djtooltip\">\n",
       "                                <p id=\"primary\">recording_id</p>\n",
       "                                <span class=\"djtooltiptext\"></span>\n",
       "                            </div></th><th><div class=\"djtooltip\">\n",
       "                                <p id=\"nonprimary\">mean</p>\n",
       "                                <span class=\"djtooltiptext\"></span>\n",
       "                            </div> </th> </tr> </thead>\n",
       "                <tbody> <tr> <td>1</td>\n",
       "<td>=BLOB=</td></tr><tr><td>2</td>\n",
       "<td>=BLOB=</td></tr><tr><td>3</td>\n",
       "<td>=BLOB=</td> </tr> </tbody>\n",
       "            </table>\n",
       "            \n",
       "            <p>Total: 3</p></div>\n",
       "            "
      ],
      "text/plain": [
       "*recording_id  mean      \n",
       "+------------+ +--------+\n",
       "1              =BLOB=    \n",
       "2              =BLOB=    \n",
       "3              =BLOB=    \n",
       " (Total: 3)"
      ]
     },
     "execution_count": 74,
     "metadata": {},
     "output_type": "execute_result"
    }
   ],
   "source": [
    "db.AnalyzedRecording()"
   ]
  },
  {
   "cell_type": "code",
   "execution_count": 75,
   "metadata": {},
   "outputs": [],
   "source": [
    "# let's insert more data into the recordingsession\n",
    "db.RecordingSession.insert1({\n",
    "    'recording_id': 11, \n",
    "    'filename': 'a', \n",
    "    'experimenter': 'me', \n",
    "    'recording_quality': 'ugly'\n",
    "})"
   ]
  },
  {
   "cell_type": "code",
   "execution_count": 76,
   "metadata": {},
   "outputs": [
    {
     "name": "stdout",
     "output_type": "stream",
     "text": [
      "{'recording_id': 8}\n",
      "{'recording_id': 4}\n",
      "{'recording_id': 6}\n",
      "{'recording_id': 9}\n",
      "{'recording_id': 10}\n",
      "{'recording_id': 7}\n",
      "{'recording_id': 5}\n"
     ]
    }
   ],
   "source": [
    "db.AnalyzedRecording.populate()"
   ]
  },
  {
   "cell_type": "code",
   "execution_count": 77,
   "metadata": {},
   "outputs": [
    {
     "data": {
      "text/html": [
       "\n",
       "        \n",
       "        <style type=\"text/css\">\n",
       "            .Relation{\n",
       "                border-collapse:collapse;\n",
       "            }\n",
       "            .Relation th{\n",
       "                background: #A0A0A0; color: #ffffff; padding:4px; border:#f0e0e0 1px solid;\n",
       "                font-weight: normal; font-family: monospace; font-size: 100%;\n",
       "            }\n",
       "            .Relation td{\n",
       "                padding:4px; border:#f0e0e0 1px solid; font-size:100%;\n",
       "            }\n",
       "            .Relation tr:nth-child(odd){\n",
       "                background: #ffffff;\n",
       "            }\n",
       "            .Relation tr:nth-child(even){\n",
       "                background: #f3f1ff;\n",
       "            }\n",
       "            /* Tooltip container */\n",
       "            .djtooltip {\n",
       "            }\n",
       "            /* Tooltip text */\n",
       "            .djtooltip .djtooltiptext {\n",
       "                visibility: hidden;\n",
       "                width: 120px;\n",
       "                background-color: black;\n",
       "                color: #fff;\n",
       "                text-align: center;\n",
       "                padding: 5px 0;\n",
       "                border-radius: 6px;\n",
       "                /* Position the tooltip text - see examples below! */\n",
       "                position: absolute;\n",
       "                z-index: 1;\n",
       "            }\n",
       "            #primary {\n",
       "                font-weight: bold;\n",
       "                color: black;\n",
       "            }\n",
       "\n",
       "            #nonprimary {\n",
       "                font-weight: normal;\n",
       "                color: white;\n",
       "            }\n",
       "\n",
       "            /* Show the tooltip text when you mouse over the tooltip container */\n",
       "            .djtooltip:hover .djtooltiptext {\n",
       "                visibility: visible;\n",
       "            }\n",
       "        </style>\n",
       "        \n",
       "        <b></b>\n",
       "            <div style=\"max-height:1000px;max-width:1500px;overflow:auto;\">\n",
       "            <table border=\"1\" class=\"Relation\">\n",
       "                <thead> <tr style=\"text-align: right;\"> <th> <div class=\"djtooltip\">\n",
       "                                <p id=\"primary\">recording_id</p>\n",
       "                                <span class=\"djtooltiptext\"></span>\n",
       "                            </div></th><th><div class=\"djtooltip\">\n",
       "                                <p id=\"nonprimary\">mean</p>\n",
       "                                <span class=\"djtooltiptext\"></span>\n",
       "                            </div> </th> </tr> </thead>\n",
       "                <tbody> <tr> <td>1</td>\n",
       "<td>=BLOB=</td></tr><tr><td>2</td>\n",
       "<td>=BLOB=</td></tr><tr><td>3</td>\n",
       "<td>=BLOB=</td></tr><tr><td>4</td>\n",
       "<td>=BLOB=</td></tr><tr><td>5</td>\n",
       "<td>=BLOB=</td></tr><tr><td>6</td>\n",
       "<td>=BLOB=</td></tr><tr><td>7</td>\n",
       "<td>=BLOB=</td></tr><tr><td>8</td>\n",
       "<td>=BLOB=</td></tr><tr><td>9</td>\n",
       "<td>=BLOB=</td></tr><tr><td>10</td>\n",
       "<td>=BLOB=</td> </tr> </tbody>\n",
       "            </table>\n",
       "            \n",
       "            <p>Total: 10</p></div>\n",
       "            "
      ],
      "text/plain": [
       "*recording_id  mean      \n",
       "+------------+ +--------+\n",
       "1              =BLOB=    \n",
       "2              =BLOB=    \n",
       "3              =BLOB=    \n",
       "4              =BLOB=    \n",
       "5              =BLOB=    \n",
       "6              =BLOB=    \n",
       "7              =BLOB=    \n",
       "8              =BLOB=    \n",
       "9              =BLOB=    \n",
       "10             =BLOB=    \n",
       " (Total: 10)"
      ]
     },
     "execution_count": 77,
     "metadata": {},
     "output_type": "execute_result"
    }
   ],
   "source": [
    "db.AnalyzedRecording()"
   ]
  },
  {
   "cell_type": "markdown",
   "metadata": {},
   "source": [
    "#### Question: Why did it not populate recording_id 11?"
   ]
  },
  {
   "cell_type": "code",
   "execution_count": 65,
   "metadata": {},
   "outputs": [
    {
     "name": "stdout",
     "output_type": "stream",
     "text": [
      "{'recording_id': 11}\n",
      "{'recording_id': 11}\n"
     ]
    }
   ],
   "source": [
    "db.ImportedRecording.populate()\n",
    "db.AnalyzedRecording.populate()"
   ]
  },
  {
   "cell_type": "markdown",
   "metadata": {},
   "source": [
    "#### <font color='crimson'>Fork-specific feature:</font> Simple parallel computation\n",
    "\n",
    "One of the options in the `populate` method is multiprocess. This allows you to perform parallel insertion into the database using multiple cpus. This feature will be part of the main release in the future, but can be used in this fork already"
   ]
  },
  {
   "cell_type": "markdown",
   "metadata": {},
   "source": [
    "### Master-Part relationship\n",
    "read more: https://docs.datajoint.io/python/computation/03-master-part.html\n",
    "\n",
    "We will go through an example of using master-part relations in `Computed` tables for the homework."
   ]
  },
  {
   "cell_type": "markdown",
   "metadata": {},
   "source": [
    "## Altering tables\n",
    "\n",
    "Going through altering tables will be part of the homework."
   ]
  },
  {
   "cell_type": "markdown",
   "metadata": {},
   "source": [
    "## Updating/editing existing entries\n",
    "\n",
    "Going through updating/editing existing entries will be part of the homework."
   ]
  },
  {
   "cell_type": "code",
   "execution_count": null,
   "metadata": {},
   "outputs": [],
   "source": []
  }
 ],
 "metadata": {
  "kernelspec": {
   "display_name": "Python 3",
   "language": "python",
   "name": "python3"
  },
  "language_info": {
   "codemirror_mode": {
    "name": "ipython",
    "version": 3
   },
   "file_extension": ".py",
   "mimetype": "text/x-python",
   "name": "python",
   "nbconvert_exporter": "python",
   "pygments_lexer": "ipython3",
   "version": "3.7.6"
  }
 },
 "nbformat": 4,
 "nbformat_minor": 4
}
